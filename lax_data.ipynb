{
 "cells": [
  {
   "cell_type": "markdown",
   "id": "75a4966e-8bc7-49be-9a74-9cc441339fac",
   "metadata": {},
   "source": [
    "## Import Libraries"
   ]
  },
  {
   "cell_type": "code",
   "execution_count": 1,
   "id": "a07737c7-bf76-4afe-9131-643a55753f5b",
   "metadata": {},
   "outputs": [],
   "source": [
    "import warnings, requests, zipfile, io\n",
    "import pandas as pd\n",
    "import os\n",
    "warnings.simplefilter('ignore')"
   ]
  },
  {
   "cell_type": "markdown",
   "id": "f0b82d58-d0df-4030-96c2-e6913b0e75ee",
   "metadata": {},
   "source": [
    "## Import the Data"
   ]
  },
  {
   "cell_type": "code",
   "execution_count": 3,
   "id": "0eba7cad-1be9-4d1e-9634-4280de4bdf08",
   "metadata": {},
   "outputs": [
    {
     "ename": "BadZipFile",
     "evalue": "File is not a zip file",
     "output_type": "error",
     "traceback": [
      "\u001b[1;31m---------------------------------------------------------------------------\u001b[0m",
      "\u001b[1;31mBadZipFile\u001b[0m                                Traceback (most recent call last)",
      "Cell \u001b[1;32mIn[3], line 3\u001b[0m\n\u001b[0;32m      1\u001b[0m f_zip \u001b[38;5;241m=\u001b[39m \u001b[38;5;124m'\u001b[39m\u001b[38;5;124mhttps://drive.google.com/file/d/10-ktiOZTwTGG_bGK2np-H3TfweBsSqKY/view?usp=sharing\u001b[39m\u001b[38;5;124m'\u001b[39m\n\u001b[0;32m      2\u001b[0m r \u001b[38;5;241m=\u001b[39m requests\u001b[38;5;241m.\u001b[39mget(f_zip, stream\u001b[38;5;241m=\u001b[39m\u001b[38;5;28;01mTrue\u001b[39;00m)\n\u001b[1;32m----> 3\u001b[0m flight_zip \u001b[38;5;241m=\u001b[39m zipfile\u001b[38;5;241m.\u001b[39mZipFile(io\u001b[38;5;241m.\u001b[39mBytesIO(r\u001b[38;5;241m.\u001b[39mcontent))\n\u001b[0;32m      4\u001b[0m flight_zip\u001b[38;5;241m.\u001b[39mextractall()\n",
      "File \u001b[1;32mD:\\Python312\\Lib\\zipfile\\__init__.py:1349\u001b[0m, in \u001b[0;36mZipFile.__init__\u001b[1;34m(self, file, mode, compression, allowZip64, compresslevel, strict_timestamps, metadata_encoding)\u001b[0m\n\u001b[0;32m   1347\u001b[0m \u001b[38;5;28;01mtry\u001b[39;00m:\n\u001b[0;32m   1348\u001b[0m     \u001b[38;5;28;01mif\u001b[39;00m mode \u001b[38;5;241m==\u001b[39m \u001b[38;5;124m'\u001b[39m\u001b[38;5;124mr\u001b[39m\u001b[38;5;124m'\u001b[39m:\n\u001b[1;32m-> 1349\u001b[0m         \u001b[38;5;28mself\u001b[39m\u001b[38;5;241m.\u001b[39m_RealGetContents()\n\u001b[0;32m   1350\u001b[0m     \u001b[38;5;28;01melif\u001b[39;00m mode \u001b[38;5;129;01min\u001b[39;00m (\u001b[38;5;124m'\u001b[39m\u001b[38;5;124mw\u001b[39m\u001b[38;5;124m'\u001b[39m, \u001b[38;5;124m'\u001b[39m\u001b[38;5;124mx\u001b[39m\u001b[38;5;124m'\u001b[39m):\n\u001b[0;32m   1351\u001b[0m         \u001b[38;5;66;03m# set the modified flag so central directory gets written\u001b[39;00m\n\u001b[0;32m   1352\u001b[0m         \u001b[38;5;66;03m# even if no files are added to the archive\u001b[39;00m\n\u001b[0;32m   1353\u001b[0m         \u001b[38;5;28mself\u001b[39m\u001b[38;5;241m.\u001b[39m_didModify \u001b[38;5;241m=\u001b[39m \u001b[38;5;28;01mTrue\u001b[39;00m\n",
      "File \u001b[1;32mD:\\Python312\\Lib\\zipfile\\__init__.py:1416\u001b[0m, in \u001b[0;36mZipFile._RealGetContents\u001b[1;34m(self)\u001b[0m\n\u001b[0;32m   1414\u001b[0m     \u001b[38;5;28;01mraise\u001b[39;00m BadZipFile(\u001b[38;5;124m\"\u001b[39m\u001b[38;5;124mFile is not a zip file\u001b[39m\u001b[38;5;124m\"\u001b[39m)\n\u001b[0;32m   1415\u001b[0m \u001b[38;5;28;01mif\u001b[39;00m \u001b[38;5;129;01mnot\u001b[39;00m endrec:\n\u001b[1;32m-> 1416\u001b[0m     \u001b[38;5;28;01mraise\u001b[39;00m BadZipFile(\u001b[38;5;124m\"\u001b[39m\u001b[38;5;124mFile is not a zip file\u001b[39m\u001b[38;5;124m\"\u001b[39m)\n\u001b[0;32m   1417\u001b[0m \u001b[38;5;28;01mif\u001b[39;00m \u001b[38;5;28mself\u001b[39m\u001b[38;5;241m.\u001b[39mdebug \u001b[38;5;241m>\u001b[39m \u001b[38;5;241m1\u001b[39m:\n\u001b[0;32m   1418\u001b[0m     \u001b[38;5;28mprint\u001b[39m(endrec)\n",
      "\u001b[1;31mBadZipFile\u001b[0m: File is not a zip file"
     ]
    }
   ],
   "source": [
    "f_zip = 'https://drive.google.com/uc?export=download&id=https://drive.google.com/file/d/10-ktiOZTwTGG_bGK2np-H3TfweBsSqKY/view?usp=sharing'\n",
    "r = requests.get(f_zip, stream=True)\n",
    "flight_zip = zipfile.ZipFile(io.BytesIO(r.content))\n",
    "flight_zip.extractall()"
   ]
  },
  {
   "cell_type": "markdown",
   "id": "f3713092-f496-41c1-bb47-976c333266f7",
   "metadata": {},
   "source": [
    "## Exploratory Data Analysis"
   ]
  },
  {
   "cell_type": "markdown",
   "id": "4641efd0-ab3e-4439-b2f9-f9aa9c2d83a6",
   "metadata": {},
   "source": [
    "### LAX Dataset"
   ]
  },
  {
   "cell_type": "markdown",
   "id": "2ef16806-74b1-47e6-a79b-8eee82119c65",
   "metadata": {},
   "source": [
    "<b>Side Note<b>: This project will focus on the Los Angeles International Airport (LAX) only"
   ]
  },
  {
   "cell_type": "code",
   "execution_count": null,
   "id": "2aa351c3-b643-4159-86a9-85e7a15e8b97",
   "metadata": {},
   "outputs": [],
   "source": [
    "lax_df = pd.read_csv('2023-us-flights-delay/lax_df.csv')\n",
    "\n",
    "lax_df.shape"
   ]
  },
  {
   "cell_type": "code",
   "execution_count": null,
   "id": "7360c623-6ed0-46ee-a030-d8db8dc0a579",
   "metadata": {},
   "outputs": [],
   "source": [
    "lax_df.dtypes"
   ]
  },
  {
   "cell_type": "code",
   "execution_count": null,
   "id": "562d9b39-db5e-4d9e-a8d0-3e21c0f843f1",
   "metadata": {},
   "outputs": [],
   "source": [
    "lax_df.head(5)"
   ]
  },
  {
   "cell_type": "code",
   "execution_count": null,
   "id": "0d223978-b068-4ef6-a06d-7bf5f048c483",
   "metadata": {},
   "outputs": [],
   "source": [
    "lax_df.describe()"
   ]
  },
  {
   "cell_type": "code",
   "execution_count": null,
   "id": "566bcd33-2afd-4c6f-b10e-618fc7fa981a",
   "metadata": {},
   "outputs": [],
   "source": [
    "lax_df.isnull().sum()"
   ]
  },
  {
   "cell_type": "markdown",
   "id": "3f7b313f-3c5a-4be5-b23e-fe84db8f85cb",
   "metadata": {},
   "source": [
    "### Weather Dataset"
   ]
  },
  {
   "cell_type": "code",
   "execution_count": null,
   "id": "2baef9b8-b362-4a31-8f65-e5ad18472ef6",
   "metadata": {},
   "outputs": [],
   "source": [
    "weather_df = pd.read_csv('2023-us-flights-delay/weather_meteo_by_airport.csv')"
   ]
  },
  {
   "cell_type": "code",
   "execution_count": null,
   "id": "0c9ffb9c-95fc-4493-b064-9e5a27f345c7",
   "metadata": {},
   "outputs": [],
   "source": [
    "weather_df.shape"
   ]
  },
  {
   "cell_type": "code",
   "execution_count": null,
   "id": "c6e1ec3a-0324-4ad3-b216-51e749635420",
   "metadata": {},
   "outputs": [],
   "source": [
    "weather_df.dtypes"
   ]
  },
  {
   "cell_type": "code",
   "execution_count": null,
   "id": "2625b311-64a2-4c1b-994e-c50c0dd66424",
   "metadata": {},
   "outputs": [],
   "source": [
    "weather_df.describe()"
   ]
  },
  {
   "cell_type": "code",
   "execution_count": null,
   "id": "e04e701d-dd9b-4154-b6a1-5831ec8ea8b1",
   "metadata": {},
   "outputs": [],
   "source": [
    "weather_df.isnull().sum()"
   ]
  },
  {
   "cell_type": "code",
   "execution_count": null,
   "id": "732a4d4b-f3d3-4dc3-8228-517f8d710578",
   "metadata": {},
   "outputs": [],
   "source": [
    "lax_weather = weather_df[weather_df['airport_id'] == 'LAX']\n",
    "lax_weather.shape"
   ]
  },
  {
   "cell_type": "markdown",
   "id": "38802491-7629-4f86-bffc-77ec5a3cdf95",
   "metadata": {},
   "source": [
    "### Merge Two Datasets"
   ]
  },
  {
   "cell_type": "code",
   "execution_count": null,
   "id": "ce9a36e7-ac99-40da-982b-a9cd67b6ede0",
   "metadata": {},
   "outputs": [],
   "source": [
    "lax_weather = lax_weather.rename(columns={'airport_id': 'dep_airport'})"
   ]
  },
  {
   "cell_type": "code",
   "execution_count": null,
   "id": "205bcb1c-b563-446d-92c9-1e6840d59483",
   "metadata": {},
   "outputs": [],
   "source": [
    "lax_weather = lax_weather.rename(columns={'time': 'flightdate'})"
   ]
  },
  {
   "cell_type": "code",
   "execution_count": null,
   "id": "a5f94eb0-5fab-4d73-8b1e-70ae2ef553c3",
   "metadata": {},
   "outputs": [],
   "source": [
    "lax_merged = pd.merge(lax_df, lax_weather, on=['flightdate', 'dep_airport'], how='left')\n",
    "\n",
    "print(lax_merged.head())"
   ]
  },
  {
   "cell_type": "code",
   "execution_count": null,
   "id": "5d787e4c-830f-4b49-b0b9-8aadbc377b87",
   "metadata": {},
   "outputs": [],
   "source": [
    "lax_merged.shape"
   ]
  },
  {
   "cell_type": "code",
   "execution_count": null,
   "id": "09e64a56-5dd4-4a54-9af9-ba5674967ccd",
   "metadata": {},
   "outputs": [],
   "source": [
    "lax_merged.to_csv(\"2023-us-trim/lax_merged.csv\", encoding='utf-8', index=False, header=True)"
   ]
  }
 ],
 "metadata": {
  "kernelspec": {
   "display_name": "Python 3 (ipykernel)",
   "language": "python",
   "name": "python3"
  },
  "language_info": {
   "codemirror_mode": {
    "name": "ipython",
    "version": 3
   },
   "file_extension": ".py",
   "mimetype": "text/x-python",
   "name": "python",
   "nbconvert_exporter": "python",
   "pygments_lexer": "ipython3",
   "version": "3.12.3"
  }
 },
 "nbformat": 4,
 "nbformat_minor": 5
}
