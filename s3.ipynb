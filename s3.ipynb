{
 "cells": [
  {
   "cell_type": "markdown",
   "id": "250b41cc-c356-4de7-b6c5-2576689fd370",
   "metadata": {},
   "source": [
    "## Import Libraries"
   ]
  },
  {
   "cell_type": "code",
   "execution_count": null,
   "id": "f0acb766-a6b2-4355-9988-f7c1e1a567ce",
   "metadata": {},
   "outputs": [],
   "source": [
    "import boto3\n",
    "import sagemaker\n",
    "import warnings, requests, zipfile, io\n",
    "import pandas as pd\n",
    "import os\n",
    "warnings.simplefilter('ignore')"
   ]
  },
  {
   "cell_type": "code",
   "execution_count": null,
   "id": "52f3173c-9f1b-4247-8a27-462ef1bb8c48",
   "metadata": {},
   "outputs": [],
   "source": [
    "lax_merged = pd.read_csv('2023-us-trim/lax_merged.csv')\n",
    "lax_df = pd.read_csv('2023-us-trim/lax_df.csv')\n",
    "weather_df = pd.read_csv('2023-us-trim/weather_meteo_by_airport.csv')"
   ]
  },
  {
   "cell_type": "code",
   "execution_count": null,
   "id": "e5690b80-c439-4f90-8aa0-b7ecb1ba6a50",
   "metadata": {},
   "outputs": [],
   "source": [
    "bucket = 'baobucketaws' # Change this to your bucket's name\n",
    "\n",
    "prefix = 'asm3'\n",
    "\n",
    "raw_file = 'lax_merged.csv'\n",
    "lax_file = 'lax_df.csv'\n",
    "weather_file = 'weather_meteo_by_airport.csv'\n",
    "\n",
    "s3_resource = boto3.Session().resource('s3')\n",
    "\n",
    "\n",
    "def upload_s3_csv(filename, folder, dataframe):\n",
    "    csv_buffer = io.StringIO()\n",
    "    dataframe.to_csv(csv_buffer, header=True, index=False)\n",
    "    s3_resource.Bucket(bucket).Object(os.path.join(prefix, folder, filename)).put(Body=csv_buffer.getvalue())"
   ]
  },
  {
   "cell_type": "code",
   "execution_count": null,
   "id": "2f76cb32-e108-4c6c-83f2-92d9cd8ed01f",
   "metadata": {},
   "outputs": [],
   "source": [
    "upload_s3_csv(raw_file, 'raw', lax_merged)\n",
    "upload_s3_csv(lax_file, 'raw', lax_df)\n",
    "upload_s3_csv(weather_file, 'raw', weather_df)"
   ]
  }
 ],
 "metadata": {
  "kernelspec": {
   "display_name": "Python 3 (ipykernel)",
   "language": "python",
   "name": "python3"
  },
  "language_info": {
   "codemirror_mode": {
    "name": "ipython",
    "version": 3
   },
   "file_extension": ".py",
   "mimetype": "text/x-python",
   "name": "python",
   "nbconvert_exporter": "python",
   "pygments_lexer": "ipython3",
   "version": "3.12.3"
  }
 },
 "nbformat": 4,
 "nbformat_minor": 5
}
