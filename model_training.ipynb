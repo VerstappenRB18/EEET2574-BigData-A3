{
 "cells": [
  {
   "cell_type": "markdown",
   "id": "be3fe9be-ee5f-445d-bc89-25c9ca527966",
   "metadata": {},
   "source": [
    "## Import libraries"
   ]
  },
  {
   "cell_type": "code",
   "execution_count": 43,
   "id": "82945c2d-e9ec-48a8-9f4a-0915742db169",
   "metadata": {
    "tags": []
   },
   "outputs": [],
   "source": [
    "import pandas as pd\n",
    "import numpy as np\n",
    "import os\n",
    "import boto3\n",
    "from io import BytesIO, StringIO\n",
    "from botocore.exceptions import NoCredentialsError, ClientError\n",
    "import seaborn as sns\n",
    "import time\n",
    "import matplotlib.pyplot as plt\n",
    "import warnings\n",
    "from pyspark.sql import SparkSession\n",
    "from pyspark.ml.classification import (\n",
    "    LogisticRegression,\n",
    "    RandomForestClassifier,\n",
    "    GBTClassifier,\n",
    "    DecisionTreeClassifier\n",
    ")\n",
    "\n",
    "# For Pipeline and Feature Transformation\n",
    "from pyspark.ml import Pipeline, PipelineModel\n",
    "from pyspark.ml.feature import (\n",
    "    VectorAssembler,\n",
    "    StringIndexer,\n",
    "    OneHotEncoder,\n",
    "    StandardScaler,\n",
    "    MinMaxScaler,\n",
    "    RobustScaler\n",
    ")\n",
    "\n",
    "# For Model Evaluation\n",
    "from pyspark.ml.evaluation import MulticlassClassificationEvaluator, BinaryClassificationEvaluator\n",
    "\n",
    "# For SQL and DataFrame Operations\n",
    "from pyspark.sql.functions import col, monotonically_increasing_id, lit\n",
    "from pyspark.sql.types import DoubleType"
   ]
  },
  {
   "cell_type": "code",
   "execution_count": 2,
   "id": "56e88f79-471d-4a49-ba73-0fc34ca57404",
   "metadata": {
    "tags": []
   },
   "outputs": [],
   "source": [
    "pd.set_option(\"display.max_columns\", None)\n",
    "\n",
    "warnings.filterwarnings(\"ignore\")\n",
    "\n",
    "sns.set(style=\"whitegrid\")"
   ]
  },
  {
   "cell_type": "markdown",
   "id": "56d32d20-21e0-42f0-8902-f63d6e07f768",
   "metadata": {},
   "source": [
    "## Create SparkSession"
   ]
  },
  {
   "cell_type": "code",
   "execution_count": 3,
   "id": "d686e58c-3b77-4088-bbb2-eebe5e97f791",
   "metadata": {
    "tags": []
   },
   "outputs": [
    {
     "name": "stderr",
     "output_type": "stream",
     "text": [
      "Setting default log level to \"WARN\".\n",
      "To adjust logging level use sc.setLogLevel(newLevel). For SparkR, use setLogLevel(newLevel).\n"
     ]
    },
    {
     "name": "stdout",
     "output_type": "stream",
     "text": [
      "25/01/09 10:47:59 WARN NativeCodeLoader: Unable to load native-hadoop library for your platform... using builtin-java classes where applicable\n"
     ]
    }
   ],
   "source": [
    "spark = SparkSession.builder \\\n",
    "    .appName(\"Classification\") \\\n",
    "    .config(\"spark.executor.memory\", \"16g\") \\\n",
    "    .config(\"spark.driver.memory\", \"16g\") \\\n",
    "    .config(\"spark.memory.offHeap.enabled\", True) \\\n",
    "    .config(\"spark.memory.offHeap.size\", \"2g\") \\\n",
    "    .config(\"spark.executor.cores\", \"2\") \\\n",
    "    .config(\"spark.task.maxFailures\", \"4\") \\\n",
    "    .getOrCreate()"
   ]
  },
  {
   "cell_type": "code",
   "execution_count": 4,
   "id": "117783be-826b-41c0-a289-936aaecddc7f",
   "metadata": {
    "tags": []
   },
   "outputs": [],
   "source": [
    "spark.sparkContext.setLogLevel(\"ERROR\")"
   ]
  },
  {
   "cell_type": "markdown",
   "id": "2514707f-cca7-4619-b2a7-629971bafa29",
   "metadata": {},
   "source": [
    "## Extract Historical Data from S3 Bucket"
   ]
  },
  {
   "cell_type": "markdown",
   "id": "c9b4325a",
   "metadata": {},
   "source": [
    "Defines a function `read_csv_from_s3_as_df` to fetch a CSV file from the specified S3 bucket and key, reads its contents into a pandas DataFrame, and prints the DataFrame or an error message if retrieval or parsing fails."
   ]
  },
  {
   "cell_type": "code",
   "execution_count": 5,
   "id": "03ce9ea2-fa3f-4182-9aa1-caf00acd0f6d",
   "metadata": {
    "tags": []
   },
   "outputs": [
    {
     "name": "stdout",
     "output_type": "stream",
     "text": [
      "         flightdate  day_of_week          airline tail_number dep_airport  \\\n",
      "0        2023-01-02            1     Endeavor Air      N605LR         BDL   \n",
      "1        2023-01-03            2     Endeavor Air      N605LR         BDL   \n",
      "2        2023-01-04            3     Endeavor Air      N331PQ         BDL   \n",
      "3        2023-01-05            4     Endeavor Air      N906XJ         BDL   \n",
      "4        2023-01-06            5     Endeavor Air      N337PQ         BDL   \n",
      "...             ...          ...              ...         ...         ...   \n",
      "6743368  2023-12-31            7  JetBlue Airways      N903JB         SJU   \n",
      "6743369  2023-12-31            7  JetBlue Airways      N535JB         MCO   \n",
      "6743370  2023-12-31            7  JetBlue Airways      N354JB         PHL   \n",
      "6743371  2023-12-31            7  JetBlue Airways      N768JB         PBI   \n",
      "6743372  2023-12-31            7  JetBlue Airways      N547JB         BDL   \n",
      "\n",
      "                           dep_cityname deptime_label  dep_delay  \\\n",
      "0                          Hartford, CT       Morning         -3   \n",
      "1                          Hartford, CT       Morning         -5   \n",
      "2                          Hartford, CT       Morning         -5   \n",
      "3                          Hartford, CT       Morning         -6   \n",
      "4                          Hartford, CT       Morning         -1   \n",
      "...                                 ...           ...        ...   \n",
      "6743368                    San Juan, PR       Morning          4   \n",
      "6743369                     Orlando, FL       Evening        113   \n",
      "6743370                Philadelphia, PA     Afternoon        -11   \n",
      "6743371  West Palm Beach/Palm Beach, FL     Afternoon         -7   \n",
      "6743372                    Hartford, CT       Morning         -8   \n",
      "\n",
      "         dep_delay_tag dep_delay_type arr_airport  \\\n",
      "0                    0      Low <5min         LGA   \n",
      "1                    0      Low <5min         LGA   \n",
      "2                    0      Low <5min         LGA   \n",
      "3                    0      Low <5min         LGA   \n",
      "4                    0      Low <5min         LGA   \n",
      "...                ...            ...         ...   \n",
      "6743368              1      Low <5min         JFK   \n",
      "6743369              1   Hight >60min         SJU   \n",
      "6743370              0      Low <5min         BOS   \n",
      "6743371              0      Low <5min         BDL   \n",
      "6743372              0      Low <5min         PBI   \n",
      "\n",
      "                           arr_cityname  arr_delay arr_delay_type  \\\n",
      "0                          New York, NY        -12      Low <5min   \n",
      "1                          New York, NY         -8      Low <5min   \n",
      "2                          New York, NY        -21      Low <5min   \n",
      "3                          New York, NY        -17      Low <5min   \n",
      "4                          New York, NY        -16      Low <5min   \n",
      "...                                 ...        ...            ...   \n",
      "6743368                    New York, NY        -33      Low <5min   \n",
      "6743369                    San Juan, PR        100   Hight >60min   \n",
      "6743370                      Boston, MA        -12      Low <5min   \n",
      "6743371                    Hartford, CT        -30      Low <5min   \n",
      "6743372  West Palm Beach/Palm Beach, FL        -24      Low <5min   \n",
      "\n",
      "         flight_duration        distance_type  delay_carrier  delay_weather  \\\n",
      "0                     56   Short Haul >1500Mi              0              0   \n",
      "1                     62   Short Haul >1500Mi              0              0   \n",
      "2                     49   Short Haul >1500Mi              0              0   \n",
      "3                     54   Short Haul >1500Mi              0              0   \n",
      "4                     50   Short Haul >1500Mi              0              0   \n",
      "...                  ...                  ...            ...            ...   \n",
      "6743368              219  Medium Haul <3000Mi              0              0   \n",
      "6743369              162   Short Haul >1500Mi              4              0   \n",
      "6743370               73   Short Haul >1500Mi              0              0   \n",
      "6743371              158   Short Haul >1500Mi              0              0   \n",
      "6743372              173   Short Haul >1500Mi              0              0   \n",
      "\n",
      "         delay_nas  delay_security  delay_lastaircraft           manufacturer  \\\n",
      "0                0               0                   0  CANADAIR REGIONAL JET   \n",
      "1                0               0                   0  CANADAIR REGIONAL JET   \n",
      "2                0               0                   0  CANADAIR REGIONAL JET   \n",
      "3                0               0                   0  CANADAIR REGIONAL JET   \n",
      "4                0               0                   0  CANADAIR REGIONAL JET   \n",
      "...            ...             ...                 ...                    ...   \n",
      "6743368          0               0                   0                 AIRBUS   \n",
      "6743369          0               0                  96                 AIRBUS   \n",
      "6743370          0               0                   0                EMBRAER   \n",
      "6743371          0               0                   0                 AIRBUS   \n",
      "6743372          0               0                   0                 AIRBUS   \n",
      "\n",
      "           model  aicraft_age  tavg  tmin  tmax  prcp  snow   wdir  wspd  \\\n",
      "0            CRJ           16   2.9  -2.1   8.3   0.0   0.0  338.0   3.2   \n",
      "1            CRJ           16   1.8  -1.6   4.4  10.7   0.0    3.0   3.6   \n",
      "2            CRJ           10   5.2   3.9   8.3   6.6   0.0    1.0   7.2   \n",
      "3            CRJ           17   6.8   3.9   7.8   0.8   0.0   14.0  13.7   \n",
      "4            CRJ           10   3.3   0.0   3.9   9.7   0.0    0.0   5.8   \n",
      "...          ...          ...   ...   ...   ...   ...   ...    ...   ...   \n",
      "6743368     A321           11  25.8  23.9  28.3   1.5   0.0   37.0   8.3   \n",
      "6743369     A320           22  12.4   6.1  18.9   0.0   0.0  325.0   5.6   \n",
      "6743370  190/195           11   6.1   2.8   8.3   0.0   0.0  286.0   9.7   \n",
      "6743371     A320           15  14.2   8.3  21.1   0.0   0.0  335.0   4.0   \n",
      "6743372     A320           22   2.7   1.7   3.9   0.0   0.0  312.0  14.0   \n",
      "\n",
      "           pres  \n",
      "0        1019.1  \n",
      "1        1015.2  \n",
      "2        1011.1  \n",
      "3        1014.8  \n",
      "4        1016.1  \n",
      "...         ...  \n",
      "6743368  1017.8  \n",
      "6743369  1023.8  \n",
      "6743370  1015.5  \n",
      "6743371  1023.3  \n",
      "6743372  1013.3  \n",
      "\n",
      "[6743373 rows x 32 columns]\n"
     ]
    }
   ],
   "source": [
    "def read_csv_from_s3_as_df(bucket, key):\n",
    "    try:\n",
    "        # Create an S3 client\n",
    "        s3 = boto3.client('s3')\n",
    "\n",
    "        # Get the object from S3\n",
    "        obj = s3.get_object(Bucket=bucket, Key=key)\n",
    "\n",
    "        # Read the contents of the file into a pandas DataFrame\n",
    "        df_pre_clean = pd.read_csv(BytesIO(obj['Body'].read()), header=0)\n",
    "\n",
    "        return df_pre_clean\n",
    "    except NoCredentialsError:\n",
    "        print(\"Credentials not available\")\n",
    "    except ClientError as e:\n",
    "        print(f\"An error occurred: {e}\")\n",
    "    except Exception as e:\n",
    "        print(f\"An error occurred during DataFrame conversion: {e}\")\n",
    "\n",
    "\n",
    "bucket = 'big-data-team1-bucket'\n",
    "key = 'cleaned-data/historical_data.csv'\n",
    "historical_df = read_csv_from_s3_as_df(bucket, key)\n",
    "if historical_df is not None:\n",
    "    print(historical_df)\n",
    "else:\n",
    "    print(\"No data returned or error occurred\")"
   ]
  },
  {
   "cell_type": "markdown",
   "id": "35c32860",
   "metadata": {},
   "source": [
    "Defines a function `sample_flights` that samples a fixed number (`n_flights`) of flights per departure airport and date from the provided DataFrame, grouping by specified columns, and handles groups with fewer rows by enabling replacement during sampling."
   ]
  },
  {
   "cell_type": "code",
   "execution_count": 6,
   "id": "e0363898-44a6-4b37-aeb3-3ad5c12eab2e",
   "metadata": {
    "tags": []
   },
   "outputs": [],
   "source": [
    "def sample_flights(dataframe, dep_airport_col='dep_airport', date_col='flightdate', n_flights=10):\n",
    "    dataframe[date_col] = pd.to_datetime(dataframe[date_col])\n",
    "\n",
    "    # Group by dep_airport and date\n",
    "    grouped = dataframe.groupby([dep_airport_col, date_col])\n",
    "\n",
    "    # Sample 10 flights from each group, allowing replacement if a group has fewer rows\n",
    "    sampled_data = grouped.apply(lambda x: x.sample(n=n_flights, replace=len(x) < n_flights)).reset_index(drop=True)\n",
    "\n",
    "    return sampled_data"
   ]
  },
  {
   "cell_type": "markdown",
   "id": "499d95ab",
   "metadata": {},
   "source": [
    "Samples 10 flights per departure airport and flight date from the `historical_df` DataFrame and outputs the shape of the resulting sampled DataFrame to verify the operation."
   ]
  },
  {
   "cell_type": "code",
   "execution_count": 7,
   "id": "d0becaac-ad09-42d3-8ac4-ceecea6750f8",
   "metadata": {
    "tags": []
   },
   "outputs": [
    {
     "data": {
      "text/plain": [
       "(1192190, 32)"
      ]
     },
     "execution_count": 7,
     "metadata": {},
     "output_type": "execute_result"
    }
   ],
   "source": [
    "historical_df = sample_flights(historical_df, dep_airport_col='dep_airport', date_col='flightdate', n_flights=10)\n",
    "\n",
    "# Verify the sampling\n",
    "historical_df.shape"
   ]
  },
  {
   "cell_type": "markdown",
   "id": "988f3906",
   "metadata": {},
   "source": [
    "Converts the Pandas DataFrame `historical_df` into a PySpark DataFrame for distributed processing and scalability."
   ]
  },
  {
   "cell_type": "code",
   "execution_count": 8,
   "id": "514b7768-9057-45e3-bffe-ab1d2e102ab1",
   "metadata": {
    "tags": []
   },
   "outputs": [],
   "source": [
    "historical_df = spark.createDataFrame(historical_df)"
   ]
  },
  {
   "cell_type": "markdown",
   "id": "4ec4632b-3dc0-48e6-a89b-728e39be2b62",
   "metadata": {},
   "source": [
    "## Train Model (Classification)"
   ]
  },
  {
   "cell_type": "markdown",
   "id": "3ad00f8a",
   "metadata": {},
   "source": [
    "Defines a function `encode_data` to perform label or one-hot encoding on categorical columns in PySpark DataFrames using a pipeline, returning encoded training and test datasets."
   ]
  },
  {
   "cell_type": "code",
   "execution_count": 9,
   "id": "69255273-2196-4acf-9e4b-85d9ef1318f7",
   "metadata": {
    "tags": []
   },
   "outputs": [],
   "source": [
    "def encode_data(X_train, X_test, encoder_type='label', columns=None):\n",
    "    if columns is None:\n",
    "        # Default to all string (categorical) columns if no columns are specified\n",
    "        columns = [coll for coll, dtype in X_train.dtypes if dtype == 'string']\n",
    "\n",
    "    stages = []  # List to store transformation stages\n",
    "\n",
    "    for coll in columns:\n",
    "        if encoder_type == 'label':\n",
    "            # Label Encoding\n",
    "            indexer = StringIndexer(inputCol=coll, outputCol=f\"{coll}_indexed\", handleInvalid=\"keep\")\n",
    "            stages.append(indexer)\n",
    "        elif encoder_type == 'onehot':\n",
    "            # One-Hot Encoding\n",
    "            indexer = StringIndexer(inputCol=coll, outputCol=f\"{coll}_indexed\", handleInvalid=\"keep\")\n",
    "            onehot_encoder = OneHotEncoder(inputCol=f\"{coll}_indexed\", outputCol=f\"{coll}_encoded\")\n",
    "            stages.append(indexer)\n",
    "            stages.append(onehot_encoder)\n",
    "\n",
    "    # Create a Pipeline with all the stages\n",
    "    pipeline = Pipeline(stages=stages)\n",
    "\n",
    "    # Fit the pipeline on the training data\n",
    "    pipeline_model = pipeline.fit(X_train)\n",
    "\n",
    "    # Transform both train and test data\n",
    "    X_train_encoded = pipeline_model.transform(X_train)\n",
    "    X_test_encoded = pipeline_model.transform(X_test)\n",
    "\n",
    "    return X_train_encoded, X_test_encoded"
   ]
  },
  {
   "cell_type": "markdown",
   "id": "480b8dcc",
   "metadata": {},
   "source": [
    "Defines a function `encode_target` to perform label encoding on target columns (`y_train` and `y_test`) in PySpark DataFrames using `StringIndexer`, ensuring consistent encoding across training and testing datasets."
   ]
  },
  {
   "cell_type": "code",
   "execution_count": 10,
   "id": "4e89cd17-923d-4ec7-af55-cdc73d532a30",
   "metadata": {
    "tags": []
   },
   "outputs": [],
   "source": [
    "def encode_target(y_train, y_test, encoder_type='label'):\n",
    "    if encoder_type == 'label':\n",
    "        # Combine y_train and y_test for consistent encoding\n",
    "        combined_df = y_train.union(y_test)\n",
    "\n",
    "        # StringIndexer for label encoding\n",
    "        indexer = StringIndexer(inputCol=\"label\", outputCol=\"label_indexed\")\n",
    "        indexer_model = indexer.fit(combined_df)  # Fit on combined data to ensure consistency\n",
    "\n",
    "        # Transform training and testing data\n",
    "        y_train_encoded = indexer_model.transform(y_train)\n",
    "        y_test_encoded = indexer_model.transform(y_test)\n",
    "    else:\n",
    "        raise ValueError(\"Invalid encoder_type. Currently supported: 'label'.\")\n",
    "\n",
    "    return y_train_encoded, y_test_encoded"
   ]
  },
  {
   "cell_type": "markdown",
   "id": "18967507",
   "metadata": {},
   "source": [
    "Defines the `scale_data` function to scale features in training and testing PySpark DataFrames using specified scalers (`StandardScaler`, `MinMaxScaler`, or `RobustScaler`), returning the transformed datasets with scaled features."
   ]
  },
  {
   "cell_type": "code",
   "execution_count": 11,
   "id": "fc4aca8c-0a89-4b9b-b69e-44e3fe6ab977",
   "metadata": {
    "tags": []
   },
   "outputs": [],
   "source": [
    "def scale_data(X_train, X_test, scaler_type='standard'):\n",
    "    # Step 1: Choose the appropriate scaler\n",
    "    if scaler_type == 'standard':\n",
    "        scaler = StandardScaler(inputCol=\"features\", outputCol=\"scaled_features\", withMean=True, withStd=True)\n",
    "    elif scaler_type == 'minmax':\n",
    "        scaler = MinMaxScaler(inputCol=\"features\", outputCol=\"scaled_features\")\n",
    "    elif scaler_type == 'robust':\n",
    "        scaler = RobustScaler(inputCol=\"features\", outputCol=\"scaled_features\")\n",
    "    else:\n",
    "        raise ValueError(\"Invalid scaler_type. Choose from 'standard', 'minmax', 'robust'.\")\n",
    "\n",
    "    # Step 2: Create a Pipeline\n",
    "    pipeline = Pipeline(stages=[scaler])\n",
    "\n",
    "    # Step 3: Fit the pipeline on the training data\n",
    "    pipeline_model = pipeline.fit(X_train)\n",
    "\n",
    "    # Step 4: Transform both train and test data\n",
    "    X_train_scaled = pipeline_model.transform(X_train).drop(\"features\").withColumnRenamed(\"scaled_features\", \"features\")\n",
    "    X_test_scaled = pipeline_model.transform(X_test).drop(\"features\").withColumnRenamed(\"scaled_features\", \"features\")\n",
    "\n",
    "    return X_train_scaled, X_test_scaled"
   ]
  },
  {
   "cell_type": "markdown",
   "id": "79d2a0d8",
   "metadata": {},
   "source": [
    "Defines the `evaluate_classification_models` function to train multiple classification models, evaluate their performance using metrics like accuracy, F1 score, and ROC AUC, log results, save the best-performing model, and return a summary DataFrame along with trained models."
   ]
  },
  {
   "cell_type": "code",
   "execution_count": 12,
   "id": "e8bb1c60-6ee8-4a63-9d5b-c8b46786337e",
   "metadata": {
    "tags": []
   },
   "outputs": [],
   "source": [
    "def evaluate_classification_models(X_train, y_train, X_test, y_test, models, save_path=\"best_model\"):\n",
    "    # Combine features and labels into single DataFrames\n",
    "    train_data = X_train.join(y_train, \"id\")\n",
    "    test_data = X_test.join(y_test, \"id\")\n",
    "\n",
    "    model_results = []\n",
    "    trained_models = {}\n",
    "    best_model = None\n",
    "    best_accuracy = 0\n",
    "\n",
    "    for model in models:\n",
    "        start_time = time.time()\n",
    "\n",
    "        # Train the model using a pipeline\n",
    "        pipeline = Pipeline(stages=[model])\n",
    "        trained_model = pipeline.fit(train_data)\n",
    "        trained_models[model.__class__.__name__] = trained_model\n",
    "\n",
    "        # Make predictions on the test dataset\n",
    "        predictions = trained_model.transform(test_data)\n",
    "\n",
    "        # Define evaluators for metrics\n",
    "        evaluator_accuracy = MulticlassClassificationEvaluator(labelCol=\"label\", predictionCol=\"prediction\", metricName=\"accuracy\")\n",
    "        evaluator_f1 = MulticlassClassificationEvaluator(labelCol=\"label\", predictionCol=\"prediction\", metricName=\"f1\")\n",
    "        evaluator_precision = MulticlassClassificationEvaluator(labelCol=\"label\", predictionCol=\"prediction\", metricName=\"weightedPrecision\")\n",
    "        evaluator_recall = MulticlassClassificationEvaluator(labelCol=\"label\", predictionCol=\"prediction\", metricName=\"weightedRecall\")\n",
    "        evaluator_roc = BinaryClassificationEvaluator(labelCol=\"label\", rawPredictionCol=\"rawPrediction\", metricName=\"areaUnderROC\")\n",
    "        evaluator_pr = BinaryClassificationEvaluator(labelCol=\"label\", rawPredictionCol=\"rawPrediction\", metricName=\"areaUnderPR\")\n",
    "\n",
    "        # Calculate metrics for test data\n",
    "        accuracy = evaluator_accuracy.evaluate(predictions)\n",
    "        f1_score = evaluator_f1.evaluate(predictions)\n",
    "        precision = evaluator_precision.evaluate(predictions)\n",
    "        recall = evaluator_recall.evaluate(predictions)\n",
    "        roc_auc = evaluator_roc.evaluate(predictions)\n",
    "        pr_auc = evaluator_pr.evaluate(predictions)\n",
    "\n",
    "        inference_time = time.time() - start_time  # Inference time in seconds\n",
    "\n",
    "        # Log results\n",
    "        print(f\"{model.__class__.__name__} is ready\")\n",
    "\n",
    "        model_results.append({\n",
    "            \"Model-Name\": model.__class__.__name__,\n",
    "            \"Test_Accuracy\": accuracy,\n",
    "            \"F1_Score\": f1_score,\n",
    "            \"Precision\": precision,\n",
    "            \"Recall\": recall,\n",
    "            \"ROC_AUC\": roc_auc,\n",
    "            \"PR_AUC\": pr_auc,\n",
    "            \"Inference Time (ms)\": inference_time * 1000\n",
    "        })\n",
    "\n",
    "        # Update the best model\n",
    "        if accuracy > best_accuracy:\n",
    "            best_accuracy = accuracy\n",
    "            best_model = trained_model\n",
    "\n",
    "    # Save the best model\n",
    "    if best_model:\n",
    "        if not os.path.exists(save_path):\n",
    "            best_model.save(save_path)\n",
    "        print(f\"Best model saved at {save_path}\")\n",
    "\n",
    "    # Convert results to a pandas DataFrame\n",
    "    models_df = pd.DataFrame(model_results)\n",
    "    models_df = models_df.set_index(\"Model-Name\")\n",
    "\n",
    "    return models_df.sort_values(\"Test_Accuracy\", ascending=False), trained_models"
   ]
  },
  {
   "cell_type": "markdown",
   "id": "94190a8a",
   "metadata": {},
   "source": [
    "Defines a list of classification models, including Logistic Regression, Random Forest, Gradient Boosted Trees (GBT), and Decision Tree classifiers, each configured with specific hyperparameters for training and evaluation."
   ]
  },
  {
   "cell_type": "code",
   "execution_count": 13,
   "id": "ec93072b-4c77-4887-acfb-c7275f01b4f1",
   "metadata": {
    "tags": []
   },
   "outputs": [],
   "source": [
    "classification_models = [\n",
    "    LogisticRegression(featuresCol=\"features\", labelCol=\"label\", maxIter=10, regParam=0.01),\n",
    "\n",
    "    RandomForestClassifier(featuresCol=\"features\", labelCol=\"label\", numTrees=50, seed=42),\n",
    "\n",
    "    GBTClassifier(featuresCol=\"features\", labelCol=\"label\", maxIter=10, seed=42),\n",
    "\n",
    "    DecisionTreeClassifier(featuresCol=\"features\", labelCol=\"label\", maxDepth=5, seed=42),\n",
    "]"
   ]
  },
  {
   "cell_type": "markdown",
   "id": "b9354bc4",
   "metadata": {},
   "source": [
    "Filters the `historical_df` DataFrame to retain only relevant columns, sets `dep_delay_tag` as the target variable labeled as `label`, and drops the original `dep_delay_tag` column to prevent duplication."
   ]
  },
  {
   "cell_type": "code",
   "execution_count": 14,
   "id": "225455db-88b9-45cc-8b03-056440163387",
   "metadata": {
    "tags": []
   },
   "outputs": [],
   "source": [
    "# Combine X and Y into a single DataFrame\n",
    "data = historical_df.select(\n",
    "    *[col(c) for c in historical_df.columns if c not in [\n",
    "        'dep_delay', \"flightdate\", \"tail_number\", \"deptime_label\",\n",
    "        \"dep_airport\", \"dep_cityname\", \"tmin\", \"tmax\", \"day_of_week\",\n",
    "        \"delay_carrier\", \"delay_nas\", \"delay_security\", \"delay_lastaircraft\", \"delay_weather\"\n",
    "    ]],  # Keep only desired columns\n",
    ").withColumn(\"label\", col(\"dep_delay_tag\").cast(DoubleType()))  # Set 'label' column as target variable\n",
    "\n",
    "# Drop the original target column to avoid duplication\n",
    "data = data.drop(\"dep_delay_tag\")"
   ]
  },
  {
   "cell_type": "markdown",
   "id": "1dbacf8c",
   "metadata": {},
   "source": [
    "Adds a unique `id` column to the `data` DataFrame using the `monotonically_increasing_id` function to uniquely identify each row."
   ]
  },
  {
   "cell_type": "code",
   "execution_count": 15,
   "id": "c9c5499d-2e99-4411-8e0d-d4181fa778ca",
   "metadata": {
    "tags": []
   },
   "outputs": [],
   "source": [
    "data = data.withColumn(\"id\", monotonically_increasing_id())"
   ]
  },
  {
   "cell_type": "markdown",
   "id": "2bdbaa7d",
   "metadata": {},
   "source": [
    "Identifies numerical columns (`double` and `bigint` types) excluding the `label` column, creates a feature vector using `VectorAssembler`, and selects the `id`, `features`, and `label` columns for further processing."
   ]
  },
  {
   "cell_type": "code",
   "execution_count": null,
   "id": "cc571151-7942-4dc9-a00a-8fba18db45ab",
   "metadata": {},
   "outputs": [],
   "source": [
    "feature_columns = [col for col, dtype in data.dtypes if dtype in ['double', 'bigint'] and col != 'label']\n",
    "vector_assembler = VectorAssembler(inputCols=feature_columns, outputCol=\"features\")\n",
    "data = vector_assembler.transform(data).select(\"id\", \"features\", \"label\")"
   ]
  },
  {
   "cell_type": "markdown",
   "id": "084bff16",
   "metadata": {},
   "source": [
    "Splits the data into training (80%) and testing (20%) sets using a random seed for reproducibility, then separates features (`X_train`, `X_test`) and labels (`y_train`, `y_test`) into distinct DataFrames."
   ]
  },
  {
   "cell_type": "code",
   "execution_count": 18,
   "id": "5fca9dfd-04bd-49cb-9155-a146ea8c1216",
   "metadata": {
    "tags": []
   },
   "outputs": [],
   "source": [
    "# Split the data into training and testing sets\n",
    "train_data, test_data = data.randomSplit([0.8, 0.2], seed=42)\n",
    "\n",
    "X_train = train_data.select(\"id\", \"features\")\n",
    "y_train = train_data.select(\"id\", \"label\")\n",
    "X_test = test_data.select(\"id\", \"features\")\n",
    "y_test = test_data.select(\"id\", \"label\")"
   ]
  },
  {
   "cell_type": "markdown",
   "id": "7ef0a56d",
   "metadata": {},
   "source": [
    "Encodes categorical features in the training and testing datasets (`X_train` and `X_test`) using label encoding, producing `X_train_encoded` and `X_test_encoded` as the transformed datasets."
   ]
  },
  {
   "cell_type": "code",
   "execution_count": 19,
   "id": "21203908-3c39-42d5-89aa-b075f05761f8",
   "metadata": {
    "tags": []
   },
   "outputs": [],
   "source": [
    "X_train_encoded, X_test_encoded = encode_data(X_train, X_test, encoder_type='label')"
   ]
  },
  {
   "cell_type": "markdown",
   "id": "fe223b62",
   "metadata": {},
   "source": [
    "Encodes categorical features in the training and testing datasets (`X_train` and `X_test`) using one-hot encoding, producing `X_train_encoded` and `X_test_encoded` as the transformed datasets."
   ]
  },
  {
   "cell_type": "code",
   "execution_count": null,
   "id": "d12823ee-a02c-44d2-9e21-eb27e631e24f",
   "metadata": {},
   "outputs": [],
   "source": [
    "X_train_encoded, X_test_encoded = encode_data(X_train, X_test, encoder_type='onehot')"
   ]
  },
  {
   "cell_type": "markdown",
   "id": "d8155985",
   "metadata": {},
   "source": [
    "Encodes the target labels (`y_train` and `y_test`) using label encoding, resulting in `y_train_encoded` and `y_test_encoded` for consistent numerical representation of the target variable."
   ]
  },
  {
   "cell_type": "code",
   "execution_count": 20,
   "id": "b916302b-2c33-4614-9dd0-b8ae35c04992",
   "metadata": {
    "tags": []
   },
   "outputs": [
    {
     "name": "stderr",
     "output_type": "stream",
     "text": [
      "                                                                                \r"
     ]
    }
   ],
   "source": [
    "y_train_encoded, y_test_encoded = encode_target(y_train, y_test)"
   ]
  },
  {
   "cell_type": "code",
   "execution_count": 21,
   "id": "6450b73e-f756-4d29-83fe-1a2ca4d8145b",
   "metadata": {
    "tags": []
   },
   "outputs": [
    {
     "name": "stderr",
     "output_type": "stream",
     "text": [
      "                                                                                \r"
     ]
    },
    {
     "name": "stdout",
     "output_type": "stream",
     "text": [
      "LogisticRegression is ready\n"
     ]
    },
    {
     "name": "stderr",
     "output_type": "stream",
     "text": [
      "                                                                                \r"
     ]
    },
    {
     "name": "stdout",
     "output_type": "stream",
     "text": [
      "RandomForestClassifier is ready\n"
     ]
    },
    {
     "name": "stderr",
     "output_type": "stream",
     "text": [
      "                                                                                \r"
     ]
    },
    {
     "name": "stdout",
     "output_type": "stream",
     "text": [
      "GBTClassifier is ready\n"
     ]
    },
    {
     "name": "stderr",
     "output_type": "stream",
     "text": [
      "                                                                                \r"
     ]
    },
    {
     "name": "stdout",
     "output_type": "stream",
     "text": [
      "DecisionTreeClassifier is ready\n",
      "Best model saved at best_model\n"
     ]
    }
   ],
   "source": [
    "models_class_no_s, trained_no_s = evaluate_classification_models(X_train_encoded, y_train_encoded, X_test_encoded,\n",
    "                                                                 y_test_encoded, classification_models)"
   ]
  },
  {
   "cell_type": "code",
   "execution_count": 22,
   "id": "bc0c7cbb-85f6-4ca3-be4a-b4a0fa2944c7",
   "metadata": {
    "tags": []
   },
   "outputs": [
    {
     "data": {
      "text/html": [
       "<div>\n",
       "<style scoped>\n",
       "    .dataframe tbody tr th:only-of-type {\n",
       "        vertical-align: middle;\n",
       "    }\n",
       "\n",
       "    .dataframe tbody tr th {\n",
       "        vertical-align: top;\n",
       "    }\n",
       "\n",
       "    .dataframe thead th {\n",
       "        text-align: right;\n",
       "    }\n",
       "</style>\n",
       "<table border=\"1\" class=\"dataframe\">\n",
       "  <thead>\n",
       "    <tr style=\"text-align: right;\">\n",
       "      <th></th>\n",
       "      <th>Test_Accuracy</th>\n",
       "      <th>F1_Score</th>\n",
       "      <th>Precision</th>\n",
       "      <th>Recall</th>\n",
       "      <th>ROC_AUC</th>\n",
       "      <th>PR_AUC</th>\n",
       "    </tr>\n",
       "    <tr>\n",
       "      <th>Model-Name</th>\n",
       "      <th></th>\n",
       "      <th></th>\n",
       "      <th></th>\n",
       "      <th></th>\n",
       "      <th></th>\n",
       "      <th></th>\n",
       "    </tr>\n",
       "  </thead>\n",
       "  <tbody>\n",
       "    <tr>\n",
       "      <th>GBTClassifier</th>\n",
       "      <td>0.859641</td>\n",
       "      <td>0.855101</td>\n",
       "      <td>0.856474</td>\n",
       "      <td>0.859641</td>\n",
       "      <td>0.910755</td>\n",
       "      <td>0.847216</td>\n",
       "    </tr>\n",
       "    <tr>\n",
       "      <th>DecisionTreeClassifier</th>\n",
       "      <td>0.857715</td>\n",
       "      <td>0.854236</td>\n",
       "      <td>0.854299</td>\n",
       "      <td>0.857715</td>\n",
       "      <td>0.607771</td>\n",
       "      <td>0.620572</td>\n",
       "    </tr>\n",
       "    <tr>\n",
       "      <th>RandomForestClassifier</th>\n",
       "      <td>0.854164</td>\n",
       "      <td>0.851071</td>\n",
       "      <td>0.850685</td>\n",
       "      <td>0.854164</td>\n",
       "      <td>0.886917</td>\n",
       "      <td>0.815444</td>\n",
       "    </tr>\n",
       "    <tr>\n",
       "      <th>LogisticRegression</th>\n",
       "      <td>0.826390</td>\n",
       "      <td>0.804113</td>\n",
       "      <td>0.841714</td>\n",
       "      <td>0.826390</td>\n",
       "      <td>0.901416</td>\n",
       "      <td>0.824106</td>\n",
       "    </tr>\n",
       "  </tbody>\n",
       "</table>\n",
       "</div>"
      ],
      "text/plain": [
       "                        Test_Accuracy  F1_Score  Precision    Recall  \\\n",
       "Model-Name                                                             \n",
       "GBTClassifier                0.859641  0.855101   0.856474  0.859641   \n",
       "DecisionTreeClassifier       0.857715  0.854236   0.854299  0.857715   \n",
       "RandomForestClassifier       0.854164  0.851071   0.850685  0.854164   \n",
       "LogisticRegression           0.826390  0.804113   0.841714  0.826390   \n",
       "\n",
       "                         ROC_AUC    PR_AUC  \n",
       "Model-Name                                  \n",
       "GBTClassifier           0.910755  0.847216  \n",
       "DecisionTreeClassifier  0.607771  0.620572  \n",
       "RandomForestClassifier  0.886917  0.815444  \n",
       "LogisticRegression      0.901416  0.824106  "
      ]
     },
     "execution_count": 22,
     "metadata": {},
     "output_type": "execute_result"
    }
   ],
   "source": [
    "models_class_no_s.iloc[:, :-1]"
   ]
  },
  {
   "cell_type": "code",
   "execution_count": 29,
   "id": "ee8e1f0f-f793-4aef-94bf-bff92f378baa",
   "metadata": {
    "tags": []
   },
   "outputs": [
    {
     "name": "stderr",
     "output_type": "stream",
     "text": [
      "                                                                                \r"
     ]
    }
   ],
   "source": [
    "X_train_ss, X_test_ss = scale_data(X_train_encoded, X_test_encoded, scaler_type=\"standard\")"
   ]
  },
  {
   "cell_type": "code",
   "execution_count": 30,
   "id": "ef6b8519-8f4b-476f-8abb-a5646b38f9e0",
   "metadata": {
    "tags": []
   },
   "outputs": [
    {
     "name": "stderr",
     "output_type": "stream",
     "text": [
      "                                                                                \r"
     ]
    },
    {
     "name": "stdout",
     "output_type": "stream",
     "text": [
      "LogisticRegression is ready\n"
     ]
    },
    {
     "name": "stderr",
     "output_type": "stream",
     "text": [
      "                                                                                \r"
     ]
    },
    {
     "name": "stdout",
     "output_type": "stream",
     "text": [
      "RandomForestClassifier is ready\n"
     ]
    },
    {
     "name": "stderr",
     "output_type": "stream",
     "text": [
      "                                                                                \r"
     ]
    },
    {
     "name": "stdout",
     "output_type": "stream",
     "text": [
      "GBTClassifier is ready\n"
     ]
    },
    {
     "name": "stderr",
     "output_type": "stream",
     "text": [
      "                                                                                \r"
     ]
    },
    {
     "name": "stdout",
     "output_type": "stream",
     "text": [
      "DecisionTreeClassifier is ready\n"
     ]
    },
    {
     "data": {
      "text/html": [
       "<div>\n",
       "<style scoped>\n",
       "    .dataframe tbody tr th:only-of-type {\n",
       "        vertical-align: middle;\n",
       "    }\n",
       "\n",
       "    .dataframe tbody tr th {\n",
       "        vertical-align: top;\n",
       "    }\n",
       "\n",
       "    .dataframe thead th {\n",
       "        text-align: right;\n",
       "    }\n",
       "</style>\n",
       "<table border=\"1\" class=\"dataframe\">\n",
       "  <thead>\n",
       "    <tr style=\"text-align: right;\">\n",
       "      <th></th>\n",
       "      <th>Test_Accuracy</th>\n",
       "      <th>F1_Score</th>\n",
       "      <th>Precision</th>\n",
       "      <th>Recall</th>\n",
       "      <th>ROC_AUC</th>\n",
       "      <th>PR_AUC</th>\n",
       "    </tr>\n",
       "    <tr>\n",
       "      <th>Model-Name</th>\n",
       "      <th></th>\n",
       "      <th></th>\n",
       "      <th></th>\n",
       "      <th></th>\n",
       "      <th></th>\n",
       "      <th></th>\n",
       "    </tr>\n",
       "  </thead>\n",
       "  <tbody>\n",
       "    <tr>\n",
       "      <th>GBTClassifier</th>\n",
       "      <td>0.859909</td>\n",
       "      <td>0.854178</td>\n",
       "      <td>0.857332</td>\n",
       "      <td>0.859909</td>\n",
       "      <td>0.911145</td>\n",
       "      <td>0.846724</td>\n",
       "    </tr>\n",
       "    <tr>\n",
       "      <th>DecisionTreeClassifier</th>\n",
       "      <td>0.858209</td>\n",
       "      <td>0.851631</td>\n",
       "      <td>0.856113</td>\n",
       "      <td>0.858209</td>\n",
       "      <td>0.597719</td>\n",
       "      <td>0.612607</td>\n",
       "    </tr>\n",
       "    <tr>\n",
       "      <th>RandomForestClassifier</th>\n",
       "      <td>0.854524</td>\n",
       "      <td>0.851999</td>\n",
       "      <td>0.851313</td>\n",
       "      <td>0.854524</td>\n",
       "      <td>0.885414</td>\n",
       "      <td>0.811675</td>\n",
       "    </tr>\n",
       "    <tr>\n",
       "      <th>LogisticRegression</th>\n",
       "      <td>0.826281</td>\n",
       "      <td>0.803664</td>\n",
       "      <td>0.841696</td>\n",
       "      <td>0.826281</td>\n",
       "      <td>0.901766</td>\n",
       "      <td>0.823107</td>\n",
       "    </tr>\n",
       "  </tbody>\n",
       "</table>\n",
       "</div>"
      ],
      "text/plain": [
       "                        Test_Accuracy  F1_Score  Precision    Recall  \\\n",
       "Model-Name                                                             \n",
       "GBTClassifier                0.859909  0.854178   0.857332  0.859909   \n",
       "DecisionTreeClassifier       0.858209  0.851631   0.856113  0.858209   \n",
       "RandomForestClassifier       0.854524  0.851999   0.851313  0.854524   \n",
       "LogisticRegression           0.826281  0.803664   0.841696  0.826281   \n",
       "\n",
       "                         ROC_AUC    PR_AUC  \n",
       "Model-Name                                  \n",
       "GBTClassifier           0.911145  0.846724  \n",
       "DecisionTreeClassifier  0.597719  0.612607  \n",
       "RandomForestClassifier  0.885414  0.811675  \n",
       "LogisticRegression      0.901766  0.823107  "
      ]
     },
     "execution_count": 30,
     "metadata": {},
     "output_type": "execute_result"
    }
   ],
   "source": [
    "models_class_ss, trained_ss = evaluate_classification_models(X_train_ss, y_train_encoded, X_test_ss,\n",
    "                                                             y_test_encoded, classification_models)\n",
    "\n",
    "models_class_ss.iloc[:, :-1]"
   ]
  },
  {
   "cell_type": "code",
   "execution_count": 31,
   "id": "aa2cf787-e482-47c3-afe2-9698bea4e872",
   "metadata": {
    "tags": []
   },
   "outputs": [
    {
     "name": "stderr",
     "output_type": "stream",
     "text": [
      "                                                                                \r"
     ]
    }
   ],
   "source": [
    "X_train_sm, X_test_sm = scale_data(X_train_encoded, X_test_encoded, scaler_type=\"minmax\")"
   ]
  },
  {
   "cell_type": "code",
   "execution_count": 32,
   "id": "537b3e46-cfa0-4624-a7b7-acf2b74c13b5",
   "metadata": {
    "tags": []
   },
   "outputs": [
    {
     "name": "stderr",
     "output_type": "stream",
     "text": [
      "                                                                                \r"
     ]
    },
    {
     "name": "stdout",
     "output_type": "stream",
     "text": [
      "LogisticRegression is ready\n"
     ]
    },
    {
     "name": "stderr",
     "output_type": "stream",
     "text": [
      "                                                                                \r"
     ]
    },
    {
     "name": "stdout",
     "output_type": "stream",
     "text": [
      "RandomForestClassifier is ready\n"
     ]
    },
    {
     "name": "stderr",
     "output_type": "stream",
     "text": [
      "                                                                                \r"
     ]
    },
    {
     "name": "stdout",
     "output_type": "stream",
     "text": [
      "GBTClassifier is ready\n"
     ]
    },
    {
     "name": "stderr",
     "output_type": "stream",
     "text": [
      "                                                                                \r"
     ]
    },
    {
     "name": "stdout",
     "output_type": "stream",
     "text": [
      "DecisionTreeClassifier is ready\n"
     ]
    },
    {
     "data": {
      "text/html": [
       "<div>\n",
       "<style scoped>\n",
       "    .dataframe tbody tr th:only-of-type {\n",
       "        vertical-align: middle;\n",
       "    }\n",
       "\n",
       "    .dataframe tbody tr th {\n",
       "        vertical-align: top;\n",
       "    }\n",
       "\n",
       "    .dataframe thead th {\n",
       "        text-align: right;\n",
       "    }\n",
       "</style>\n",
       "<table border=\"1\" class=\"dataframe\">\n",
       "  <thead>\n",
       "    <tr style=\"text-align: right;\">\n",
       "      <th></th>\n",
       "      <th>Test_Accuracy</th>\n",
       "      <th>F1_Score</th>\n",
       "      <th>Precision</th>\n",
       "      <th>Recall</th>\n",
       "      <th>ROC_AUC</th>\n",
       "      <th>PR_AUC</th>\n",
       "    </tr>\n",
       "    <tr>\n",
       "      <th>Model-Name</th>\n",
       "      <th></th>\n",
       "      <th></th>\n",
       "      <th></th>\n",
       "      <th></th>\n",
       "      <th></th>\n",
       "      <th></th>\n",
       "    </tr>\n",
       "  </thead>\n",
       "  <tbody>\n",
       "    <tr>\n",
       "      <th>GBTClassifier</th>\n",
       "      <td>0.859897</td>\n",
       "      <td>0.854165</td>\n",
       "      <td>0.857318</td>\n",
       "      <td>0.859897</td>\n",
       "      <td>0.911157</td>\n",
       "      <td>0.846711</td>\n",
       "    </tr>\n",
       "    <tr>\n",
       "      <th>DecisionTreeClassifier</th>\n",
       "      <td>0.858209</td>\n",
       "      <td>0.851631</td>\n",
       "      <td>0.856113</td>\n",
       "      <td>0.858209</td>\n",
       "      <td>0.597719</td>\n",
       "      <td>0.612607</td>\n",
       "    </tr>\n",
       "    <tr>\n",
       "      <th>RandomForestClassifier</th>\n",
       "      <td>0.854536</td>\n",
       "      <td>0.852079</td>\n",
       "      <td>0.851370</td>\n",
       "      <td>0.854536</td>\n",
       "      <td>0.885410</td>\n",
       "      <td>0.811091</td>\n",
       "    </tr>\n",
       "    <tr>\n",
       "      <th>LogisticRegression</th>\n",
       "      <td>0.826281</td>\n",
       "      <td>0.803664</td>\n",
       "      <td>0.841696</td>\n",
       "      <td>0.826281</td>\n",
       "      <td>0.901767</td>\n",
       "      <td>0.823107</td>\n",
       "    </tr>\n",
       "  </tbody>\n",
       "</table>\n",
       "</div>"
      ],
      "text/plain": [
       "                        Test_Accuracy  F1_Score  Precision    Recall  \\\n",
       "Model-Name                                                             \n",
       "GBTClassifier                0.859897  0.854165   0.857318  0.859897   \n",
       "DecisionTreeClassifier       0.858209  0.851631   0.856113  0.858209   \n",
       "RandomForestClassifier       0.854536  0.852079   0.851370  0.854536   \n",
       "LogisticRegression           0.826281  0.803664   0.841696  0.826281   \n",
       "\n",
       "                         ROC_AUC    PR_AUC  \n",
       "Model-Name                                  \n",
       "GBTClassifier           0.911157  0.846711  \n",
       "DecisionTreeClassifier  0.597719  0.612607  \n",
       "RandomForestClassifier  0.885410  0.811091  \n",
       "LogisticRegression      0.901767  0.823107  "
      ]
     },
     "execution_count": 32,
     "metadata": {},
     "output_type": "execute_result"
    }
   ],
   "source": [
    "models_class_mm, trained_mm = evaluate_classification_models(X_train_sm, y_train_encoded, X_test_sm,\n",
    "                                                             y_test_encoded, classification_models)\n",
    "\n",
    "models_class_mm.iloc[:, :-1]"
   ]
  },
  {
   "cell_type": "code",
   "execution_count": 33,
   "id": "ae61a819-753a-489b-a5e1-4f2df47290ff",
   "metadata": {
    "tags": []
   },
   "outputs": [
    {
     "name": "stderr",
     "output_type": "stream",
     "text": [
      "                                                                                \r"
     ]
    }
   ],
   "source": [
    "X_train_sr, X_test_sr = scale_data(X_train_encoded, X_test_encoded, scaler_type=\"robust\")"
   ]
  },
  {
   "cell_type": "code",
   "execution_count": 34,
   "id": "8d367997-03d7-45c5-9695-09c2b5d658d4",
   "metadata": {
    "tags": []
   },
   "outputs": [
    {
     "name": "stderr",
     "output_type": "stream",
     "text": [
      "                                                                                \r"
     ]
    },
    {
     "name": "stdout",
     "output_type": "stream",
     "text": [
      "LogisticRegression is ready\n"
     ]
    },
    {
     "name": "stderr",
     "output_type": "stream",
     "text": [
      "                                                                                \r"
     ]
    },
    {
     "name": "stdout",
     "output_type": "stream",
     "text": [
      "RandomForestClassifier is ready\n"
     ]
    },
    {
     "name": "stderr",
     "output_type": "stream",
     "text": [
      "                                                                                \r"
     ]
    },
    {
     "name": "stdout",
     "output_type": "stream",
     "text": [
      "GBTClassifier is ready\n"
     ]
    },
    {
     "name": "stderr",
     "output_type": "stream",
     "text": [
      "                                                                                \r"
     ]
    },
    {
     "name": "stdout",
     "output_type": "stream",
     "text": [
      "DecisionTreeClassifier is ready\n"
     ]
    },
    {
     "data": {
      "text/html": [
       "<div>\n",
       "<style scoped>\n",
       "    .dataframe tbody tr th:only-of-type {\n",
       "        vertical-align: middle;\n",
       "    }\n",
       "\n",
       "    .dataframe tbody tr th {\n",
       "        vertical-align: top;\n",
       "    }\n",
       "\n",
       "    .dataframe thead th {\n",
       "        text-align: right;\n",
       "    }\n",
       "</style>\n",
       "<table border=\"1\" class=\"dataframe\">\n",
       "  <thead>\n",
       "    <tr style=\"text-align: right;\">\n",
       "      <th></th>\n",
       "      <th>Test_Accuracy</th>\n",
       "      <th>F1_Score</th>\n",
       "      <th>Precision</th>\n",
       "      <th>Recall</th>\n",
       "      <th>ROC_AUC</th>\n",
       "      <th>PR_AUC</th>\n",
       "    </tr>\n",
       "    <tr>\n",
       "      <th>Model-Name</th>\n",
       "      <th></th>\n",
       "      <th></th>\n",
       "      <th></th>\n",
       "      <th></th>\n",
       "      <th></th>\n",
       "      <th></th>\n",
       "    </tr>\n",
       "  </thead>\n",
       "  <tbody>\n",
       "    <tr>\n",
       "      <th>GBTClassifier</th>\n",
       "      <td>0.859959</td>\n",
       "      <td>0.854269</td>\n",
       "      <td>0.857359</td>\n",
       "      <td>0.859959</td>\n",
       "      <td>0.911118</td>\n",
       "      <td>0.846706</td>\n",
       "    </tr>\n",
       "    <tr>\n",
       "      <th>DecisionTreeClassifier</th>\n",
       "      <td>0.858222</td>\n",
       "      <td>0.851694</td>\n",
       "      <td>0.856080</td>\n",
       "      <td>0.858222</td>\n",
       "      <td>0.586694</td>\n",
       "      <td>0.606325</td>\n",
       "    </tr>\n",
       "    <tr>\n",
       "      <th>RandomForestClassifier</th>\n",
       "      <td>0.854076</td>\n",
       "      <td>0.851684</td>\n",
       "      <td>0.850943</td>\n",
       "      <td>0.854076</td>\n",
       "      <td>0.885681</td>\n",
       "      <td>0.813440</td>\n",
       "    </tr>\n",
       "    <tr>\n",
       "      <th>LogisticRegression</th>\n",
       "      <td>0.826294</td>\n",
       "      <td>0.803685</td>\n",
       "      <td>0.841696</td>\n",
       "      <td>0.826294</td>\n",
       "      <td>0.901769</td>\n",
       "      <td>0.823111</td>\n",
       "    </tr>\n",
       "  </tbody>\n",
       "</table>\n",
       "</div>"
      ],
      "text/plain": [
       "                        Test_Accuracy  F1_Score  Precision    Recall  \\\n",
       "Model-Name                                                             \n",
       "GBTClassifier                0.859959  0.854269   0.857359  0.859959   \n",
       "DecisionTreeClassifier       0.858222  0.851694   0.856080  0.858222   \n",
       "RandomForestClassifier       0.854076  0.851684   0.850943  0.854076   \n",
       "LogisticRegression           0.826294  0.803685   0.841696  0.826294   \n",
       "\n",
       "                         ROC_AUC    PR_AUC  \n",
       "Model-Name                                  \n",
       "GBTClassifier           0.911118  0.846706  \n",
       "DecisionTreeClassifier  0.586694  0.606325  \n",
       "RandomForestClassifier  0.885681  0.813440  \n",
       "LogisticRegression      0.901769  0.823111  "
      ]
     },
     "execution_count": 34,
     "metadata": {},
     "output_type": "execute_result"
    }
   ],
   "source": [
    "models_class_rs, trained_rs = evaluate_classification_models(X_train_sr, y_train_encoded, X_test_sr,\n",
    "                                                             y_test_encoded, classification_models)\n",
    "\n",
    "models_class_rs.iloc[:, :-1]"
   ]
  },
  {
   "cell_type": "code",
   "execution_count": 35,
   "id": "ca4ce132-1fbc-4d9d-8b96-935548b19b6b",
   "metadata": {
    "tags": []
   },
   "outputs": [
    {
     "data": {
      "text/html": [
       "<div>\n",
       "<style scoped>\n",
       "    .dataframe tbody tr th:only-of-type {\n",
       "        vertical-align: middle;\n",
       "    }\n",
       "\n",
       "    .dataframe tbody tr th {\n",
       "        vertical-align: top;\n",
       "    }\n",
       "\n",
       "    .dataframe thead th {\n",
       "        text-align: right;\n",
       "    }\n",
       "</style>\n",
       "<table border=\"1\" class=\"dataframe\">\n",
       "  <thead>\n",
       "    <tr style=\"text-align: right;\">\n",
       "      <th></th>\n",
       "      <th>Test_Accuracy</th>\n",
       "      <th>F1_Score</th>\n",
       "      <th>Precision</th>\n",
       "      <th>Recall</th>\n",
       "      <th>ROC_AUC</th>\n",
       "      <th>PR_AUC</th>\n",
       "      <th>Inference Time (ms)</th>\n",
       "      <th>Scaler</th>\n",
       "    </tr>\n",
       "    <tr>\n",
       "      <th>Model-Name</th>\n",
       "      <th></th>\n",
       "      <th></th>\n",
       "      <th></th>\n",
       "      <th></th>\n",
       "      <th></th>\n",
       "      <th></th>\n",
       "      <th></th>\n",
       "      <th></th>\n",
       "    </tr>\n",
       "  </thead>\n",
       "  <tbody>\n",
       "    <tr>\n",
       "      <th>GBTClassifier</th>\n",
       "      <td>0.859959</td>\n",
       "      <td>0.854269</td>\n",
       "      <td>0.857359</td>\n",
       "      <td>0.859959</td>\n",
       "      <td>0.911120</td>\n",
       "      <td>0.846705</td>\n",
       "      <td>84990.954161</td>\n",
       "      <td>No Scaling</td>\n",
       "    </tr>\n",
       "    <tr>\n",
       "      <th>GBTClassifier</th>\n",
       "      <td>0.859959</td>\n",
       "      <td>0.854269</td>\n",
       "      <td>0.857359</td>\n",
       "      <td>0.859959</td>\n",
       "      <td>0.911118</td>\n",
       "      <td>0.846706</td>\n",
       "      <td>84324.897051</td>\n",
       "      <td>Robust Scaler</td>\n",
       "    </tr>\n",
       "    <tr>\n",
       "      <th>GBTClassifier</th>\n",
       "      <td>0.859909</td>\n",
       "      <td>0.854178</td>\n",
       "      <td>0.857332</td>\n",
       "      <td>0.859909</td>\n",
       "      <td>0.911145</td>\n",
       "      <td>0.846724</td>\n",
       "      <td>83307.399511</td>\n",
       "      <td>Standard Scaler</td>\n",
       "    </tr>\n",
       "    <tr>\n",
       "      <th>GBTClassifier</th>\n",
       "      <td>0.859897</td>\n",
       "      <td>0.854165</td>\n",
       "      <td>0.857318</td>\n",
       "      <td>0.859897</td>\n",
       "      <td>0.911157</td>\n",
       "      <td>0.846711</td>\n",
       "      <td>85228.909969</td>\n",
       "      <td>MinMax Scaler</td>\n",
       "    </tr>\n",
       "    <tr>\n",
       "      <th>DecisionTreeClassifier</th>\n",
       "      <td>0.858222</td>\n",
       "      <td>0.851694</td>\n",
       "      <td>0.856080</td>\n",
       "      <td>0.858222</td>\n",
       "      <td>0.586694</td>\n",
       "      <td>0.606325</td>\n",
       "      <td>77758.510113</td>\n",
       "      <td>No Scaling</td>\n",
       "    </tr>\n",
       "    <tr>\n",
       "      <th>DecisionTreeClassifier</th>\n",
       "      <td>0.858222</td>\n",
       "      <td>0.851694</td>\n",
       "      <td>0.856080</td>\n",
       "      <td>0.858222</td>\n",
       "      <td>0.586694</td>\n",
       "      <td>0.606325</td>\n",
       "      <td>77047.998905</td>\n",
       "      <td>Robust Scaler</td>\n",
       "    </tr>\n",
       "    <tr>\n",
       "      <th>DecisionTreeClassifier</th>\n",
       "      <td>0.858209</td>\n",
       "      <td>0.851631</td>\n",
       "      <td>0.856113</td>\n",
       "      <td>0.858209</td>\n",
       "      <td>0.597719</td>\n",
       "      <td>0.612607</td>\n",
       "      <td>77111.476183</td>\n",
       "      <td>MinMax Scaler</td>\n",
       "    </tr>\n",
       "    <tr>\n",
       "      <th>DecisionTreeClassifier</th>\n",
       "      <td>0.858209</td>\n",
       "      <td>0.851631</td>\n",
       "      <td>0.856113</td>\n",
       "      <td>0.858209</td>\n",
       "      <td>0.597719</td>\n",
       "      <td>0.612607</td>\n",
       "      <td>78164.190292</td>\n",
       "      <td>Standard Scaler</td>\n",
       "    </tr>\n",
       "    <tr>\n",
       "      <th>RandomForestClassifier</th>\n",
       "      <td>0.854536</td>\n",
       "      <td>0.852079</td>\n",
       "      <td>0.851370</td>\n",
       "      <td>0.854536</td>\n",
       "      <td>0.885410</td>\n",
       "      <td>0.811091</td>\n",
       "      <td>121518.332243</td>\n",
       "      <td>MinMax Scaler</td>\n",
       "    </tr>\n",
       "    <tr>\n",
       "      <th>RandomForestClassifier</th>\n",
       "      <td>0.854524</td>\n",
       "      <td>0.851999</td>\n",
       "      <td>0.851313</td>\n",
       "      <td>0.854524</td>\n",
       "      <td>0.885414</td>\n",
       "      <td>0.811675</td>\n",
       "      <td>120347.884893</td>\n",
       "      <td>Standard Scaler</td>\n",
       "    </tr>\n",
       "    <tr>\n",
       "      <th>RandomForestClassifier</th>\n",
       "      <td>0.854256</td>\n",
       "      <td>0.851827</td>\n",
       "      <td>0.851102</td>\n",
       "      <td>0.854256</td>\n",
       "      <td>0.887614</td>\n",
       "      <td>0.815345</td>\n",
       "      <td>119960.643530</td>\n",
       "      <td>No Scaling</td>\n",
       "    </tr>\n",
       "    <tr>\n",
       "      <th>RandomForestClassifier</th>\n",
       "      <td>0.854076</td>\n",
       "      <td>0.851684</td>\n",
       "      <td>0.850943</td>\n",
       "      <td>0.854076</td>\n",
       "      <td>0.885681</td>\n",
       "      <td>0.813440</td>\n",
       "      <td>118093.681097</td>\n",
       "      <td>Robust Scaler</td>\n",
       "    </tr>\n",
       "    <tr>\n",
       "      <th>LogisticRegression</th>\n",
       "      <td>0.826294</td>\n",
       "      <td>0.803685</td>\n",
       "      <td>0.841696</td>\n",
       "      <td>0.826294</td>\n",
       "      <td>0.901769</td>\n",
       "      <td>0.823111</td>\n",
       "      <td>91417.044640</td>\n",
       "      <td>Robust Scaler</td>\n",
       "    </tr>\n",
       "    <tr>\n",
       "      <th>LogisticRegression</th>\n",
       "      <td>0.826281</td>\n",
       "      <td>0.803664</td>\n",
       "      <td>0.841696</td>\n",
       "      <td>0.826281</td>\n",
       "      <td>0.901769</td>\n",
       "      <td>0.823108</td>\n",
       "      <td>103343.345642</td>\n",
       "      <td>No Scaling</td>\n",
       "    </tr>\n",
       "    <tr>\n",
       "      <th>LogisticRegression</th>\n",
       "      <td>0.826281</td>\n",
       "      <td>0.803664</td>\n",
       "      <td>0.841696</td>\n",
       "      <td>0.826281</td>\n",
       "      <td>0.901766</td>\n",
       "      <td>0.823107</td>\n",
       "      <td>91581.197977</td>\n",
       "      <td>Standard Scaler</td>\n",
       "    </tr>\n",
       "    <tr>\n",
       "      <th>LogisticRegression</th>\n",
       "      <td>0.826281</td>\n",
       "      <td>0.803664</td>\n",
       "      <td>0.841696</td>\n",
       "      <td>0.826281</td>\n",
       "      <td>0.901767</td>\n",
       "      <td>0.823107</td>\n",
       "      <td>89091.178179</td>\n",
       "      <td>MinMax Scaler</td>\n",
       "    </tr>\n",
       "  </tbody>\n",
       "</table>\n",
       "</div>"
      ],
      "text/plain": [
       "                        Test_Accuracy  F1_Score  Precision    Recall  \\\n",
       "Model-Name                                                             \n",
       "GBTClassifier                0.859959  0.854269   0.857359  0.859959   \n",
       "GBTClassifier                0.859959  0.854269   0.857359  0.859959   \n",
       "GBTClassifier                0.859909  0.854178   0.857332  0.859909   \n",
       "GBTClassifier                0.859897  0.854165   0.857318  0.859897   \n",
       "DecisionTreeClassifier       0.858222  0.851694   0.856080  0.858222   \n",
       "DecisionTreeClassifier       0.858222  0.851694   0.856080  0.858222   \n",
       "DecisionTreeClassifier       0.858209  0.851631   0.856113  0.858209   \n",
       "DecisionTreeClassifier       0.858209  0.851631   0.856113  0.858209   \n",
       "RandomForestClassifier       0.854536  0.852079   0.851370  0.854536   \n",
       "RandomForestClassifier       0.854524  0.851999   0.851313  0.854524   \n",
       "RandomForestClassifier       0.854256  0.851827   0.851102  0.854256   \n",
       "RandomForestClassifier       0.854076  0.851684   0.850943  0.854076   \n",
       "LogisticRegression           0.826294  0.803685   0.841696  0.826294   \n",
       "LogisticRegression           0.826281  0.803664   0.841696  0.826281   \n",
       "LogisticRegression           0.826281  0.803664   0.841696  0.826281   \n",
       "LogisticRegression           0.826281  0.803664   0.841696  0.826281   \n",
       "\n",
       "                         ROC_AUC    PR_AUC  Inference Time (ms)  \\\n",
       "Model-Name                                                        \n",
       "GBTClassifier           0.911120  0.846705         84990.954161   \n",
       "GBTClassifier           0.911118  0.846706         84324.897051   \n",
       "GBTClassifier           0.911145  0.846724         83307.399511   \n",
       "GBTClassifier           0.911157  0.846711         85228.909969   \n",
       "DecisionTreeClassifier  0.586694  0.606325         77758.510113   \n",
       "DecisionTreeClassifier  0.586694  0.606325         77047.998905   \n",
       "DecisionTreeClassifier  0.597719  0.612607         77111.476183   \n",
       "DecisionTreeClassifier  0.597719  0.612607         78164.190292   \n",
       "RandomForestClassifier  0.885410  0.811091        121518.332243   \n",
       "RandomForestClassifier  0.885414  0.811675        120347.884893   \n",
       "RandomForestClassifier  0.887614  0.815345        119960.643530   \n",
       "RandomForestClassifier  0.885681  0.813440        118093.681097   \n",
       "LogisticRegression      0.901769  0.823111         91417.044640   \n",
       "LogisticRegression      0.901769  0.823108        103343.345642   \n",
       "LogisticRegression      0.901766  0.823107         91581.197977   \n",
       "LogisticRegression      0.901767  0.823107         89091.178179   \n",
       "\n",
       "                                 Scaler  \n",
       "Model-Name                               \n",
       "GBTClassifier                No Scaling  \n",
       "GBTClassifier             Robust Scaler  \n",
       "GBTClassifier           Standard Scaler  \n",
       "GBTClassifier             MinMax Scaler  \n",
       "DecisionTreeClassifier       No Scaling  \n",
       "DecisionTreeClassifier    Robust Scaler  \n",
       "DecisionTreeClassifier    MinMax Scaler  \n",
       "DecisionTreeClassifier  Standard Scaler  \n",
       "RandomForestClassifier    MinMax Scaler  \n",
       "RandomForestClassifier  Standard Scaler  \n",
       "RandomForestClassifier       No Scaling  \n",
       "RandomForestClassifier    Robust Scaler  \n",
       "LogisticRegression        Robust Scaler  \n",
       "LogisticRegression           No Scaling  \n",
       "LogisticRegression      Standard Scaler  \n",
       "LogisticRegression        MinMax Scaler  "
      ]
     },
     "execution_count": 35,
     "metadata": {},
     "output_type": "execute_result"
    }
   ],
   "source": [
    "models_class_no_s[\"Scaler\"] = \"No Scaling\"\n",
    "models_class_ss[\"Scaler\"] = \"Standard Scaler\"\n",
    "models_class_mm[\"Scaler\"] = \"MinMax Scaler\"\n",
    "models_class_rs[\"Scaler\"] = \"Robust Scaler\"\n",
    "\n",
    "\n",
    "all_models = pd.concat([models_class_no_s, models_class_ss, models_class_mm, models_class_rs], axis=0)\n",
    "all_models = all_models.sort_values(by=\"Test_Accuracy\", ascending=False)\n",
    "all_models"
   ]
  },
  {
   "cell_type": "markdown",
   "id": "477fd6a7-79ed-4b35-9b6e-decc7a473388",
   "metadata": {},
   "source": [
    "## Import Streaming Data"
   ]
  },
  {
   "cell_type": "code",
   "execution_count": 23,
   "id": "1ff5cdfd-ade3-4a79-982f-8138cddaf58f",
   "metadata": {
    "tags": []
   },
   "outputs": [],
   "source": [
    "bucket = 'big-data-team1-bucket'\n",
    "key = 'cleaned-data/realtime_data.csv'\n",
    "streaming_df = read_csv_from_s3_as_df(bucket, key)"
   ]
  },
  {
   "cell_type": "code",
   "execution_count": 24,
   "id": "8fef872e-46d3-49c0-a05c-bd8855b2baff",
   "metadata": {
    "tags": []
   },
   "outputs": [
    {
     "data": {
      "text/plain": [
       "flightdate             object\n",
       "day_of_week             int64\n",
       "airline                object\n",
       "tail_number            object\n",
       "dep_airport            object\n",
       "dep_cityname           object\n",
       "deptime_label          object\n",
       "dep_delay               int64\n",
       "dep_delay_tag           int64\n",
       "dep_delay_type         object\n",
       "arr_airport            object\n",
       "arr_cityname           object\n",
       "arr_delay               int64\n",
       "arr_delay_type         object\n",
       "flight_duration         int64\n",
       "distance_type          object\n",
       "delay_carrier           int64\n",
       "delay_weather           int64\n",
       "delay_nas               int64\n",
       "delay_security          int64\n",
       "delay_lastaircraft      int64\n",
       "manufacturer           object\n",
       "model                  object\n",
       "aicraft_age             int64\n",
       "tavg                  float64\n",
       "tmin                  float64\n",
       "tmax                  float64\n",
       "prcp                  float64\n",
       "snow                  float64\n",
       "wdir                  float64\n",
       "wspd                  float64\n",
       "pres                  float64\n",
       "dtype: object"
      ]
     },
     "execution_count": 24,
     "metadata": {},
     "output_type": "execute_result"
    }
   ],
   "source": [
    "streaming_df.dtypes"
   ]
  },
  {
   "cell_type": "code",
   "execution_count": 25,
   "id": "1f6d79a2-e2e9-4747-a3e9-8b1d5cb4200a",
   "metadata": {
    "tags": []
   },
   "outputs": [],
   "source": [
    "streaming_df = spark.createDataFrame(streaming_df)"
   ]
  },
  {
   "cell_type": "code",
   "execution_count": 26,
   "id": "c909d8d2-40ce-44dc-81ff-245f5486c02f",
   "metadata": {
    "tags": []
   },
   "outputs": [
    {
     "data": {
      "text/plain": [
       "[('flightdate', 'string'),\n",
       " ('day_of_week', 'bigint'),\n",
       " ('airline', 'string'),\n",
       " ('tail_number', 'string'),\n",
       " ('dep_airport', 'string'),\n",
       " ('dep_cityname', 'string'),\n",
       " ('deptime_label', 'string'),\n",
       " ('dep_delay', 'bigint'),\n",
       " ('dep_delay_tag', 'bigint'),\n",
       " ('dep_delay_type', 'string'),\n",
       " ('arr_airport', 'string'),\n",
       " ('arr_cityname', 'string'),\n",
       " ('arr_delay', 'bigint'),\n",
       " ('arr_delay_type', 'string'),\n",
       " ('flight_duration', 'bigint'),\n",
       " ('distance_type', 'string'),\n",
       " ('delay_carrier', 'bigint'),\n",
       " ('delay_weather', 'bigint'),\n",
       " ('delay_nas', 'bigint'),\n",
       " ('delay_security', 'bigint'),\n",
       " ('delay_lastaircraft', 'bigint'),\n",
       " ('manufacturer', 'string'),\n",
       " ('model', 'string'),\n",
       " ('aicraft_age', 'bigint'),\n",
       " ('tavg', 'double'),\n",
       " ('tmin', 'double'),\n",
       " ('tmax', 'double'),\n",
       " ('prcp', 'double'),\n",
       " ('snow', 'double'),\n",
       " ('wdir', 'double'),\n",
       " ('wspd', 'double'),\n",
       " ('pres', 'double')]"
      ]
     },
     "execution_count": 26,
     "metadata": {},
     "output_type": "execute_result"
    }
   ],
   "source": [
    "streaming_df.dtypes"
   ]
  },
  {
   "cell_type": "code",
   "execution_count": 28,
   "id": "180d3a9c-ad10-4eba-96ed-40178737fcbe",
   "metadata": {
    "tags": []
   },
   "outputs": [],
   "source": [
    "# Combine X and y into a single DataFrame\n",
    "realtime_data = streaming_df.select(\n",
    "    *[col(c) for c in streaming_df.columns if c not in [\n",
    "        'dep_delay', \"flightdate\", \"tail_number\", \"deptime_label\",\n",
    "        \"dep_airport\", \"dep_cityname\", \"tmin\", \"tmax\", \"day_of_week\",\n",
    "        \"delay_carrier\", \"delay_nas\", \"delay_security\", \"delay_lastaircraft\", \"delay_weather\", \"dep_delay_tag\"\n",
    "    ]],  # Keep only desired columns\n",
    ")"
   ]
  },
  {
   "cell_type": "code",
   "execution_count": 30,
   "id": "45102b25-7942-45dc-b15f-e35b6606e8c5",
   "metadata": {
    "tags": []
   },
   "outputs": [],
   "source": [
    "realtime_data = realtime_data.withColumn(\"id\", monotonically_increasing_id())"
   ]
  },
  {
   "cell_type": "code",
   "execution_count": 29,
   "id": "ddea3fc6-bfd6-46df-b76a-ca323be2a4ed",
   "metadata": {
    "tags": []
   },
   "outputs": [
    {
     "data": {
      "text/plain": [
       "[('airline', 'string'),\n",
       " ('dep_delay_type', 'string'),\n",
       " ('arr_airport', 'string'),\n",
       " ('arr_cityname', 'string'),\n",
       " ('arr_delay', 'bigint'),\n",
       " ('arr_delay_type', 'string'),\n",
       " ('flight_duration', 'bigint'),\n",
       " ('distance_type', 'string'),\n",
       " ('manufacturer', 'string'),\n",
       " ('model', 'string'),\n",
       " ('aicraft_age', 'bigint'),\n",
       " ('tavg', 'double'),\n",
       " ('prcp', 'double'),\n",
       " ('snow', 'double'),\n",
       " ('wdir', 'double'),\n",
       " ('wspd', 'double'),\n",
       " ('pres', 'double')]"
      ]
     },
     "execution_count": 29,
     "metadata": {},
     "output_type": "execute_result"
    }
   ],
   "source": [
    "realtime_data.dtypes"
   ]
  },
  {
   "cell_type": "code",
   "execution_count": 31,
   "id": "7bb301f1-cbfb-454e-8808-d2c3be00c619",
   "metadata": {
    "tags": []
   },
   "outputs": [],
   "source": [
    "real_feature_columns = [col for col, dtype in realtime_data.dtypes if dtype in ['double', 'bigint']]\n",
    "vector_assembler = VectorAssembler(inputCols=real_feature_columns, outputCol=\"features\")\n",
    "realtime_data = vector_assembler.transform(realtime_data).select(\"id\", \"features\")"
   ]
  },
  {
   "cell_type": "code",
   "execution_count": 32,
   "id": "b4ef3e96-c86b-4dc4-b91a-101e1839129d",
   "metadata": {
    "tags": []
   },
   "outputs": [
    {
     "name": "stderr",
     "output_type": "stream",
     "text": [
      "WARNING: An illegal reflective access operation has occurred\n",
      "WARNING: Illegal reflective access by org.apache.spark.util.SizeEstimator$ (file:/home/ec2-user/anaconda3/envs/python3/lib/python3.10/site-packages/pyspark/jars/spark-core_2.12-3.3.0.jar) to field java.math.BigInteger.mag\n",
      "WARNING: Please consider reporting this to the maintainers of org.apache.spark.util.SizeEstimator$\n",
      "WARNING: Use --illegal-access=warn to enable warnings of further illegal reflective access operations\n",
      "WARNING: All illegal access operations will be denied in a future release\n"
     ]
    }
   ],
   "source": [
    "# Load the saved model\n",
    "loaded_model = PipelineModel.load(\"best_model\")"
   ]
  },
  {
   "cell_type": "code",
   "execution_count": 33,
   "id": "3c7ff226-57bd-426a-8638-1f5671acbf12",
   "metadata": {
    "tags": []
   },
   "outputs": [
    {
     "data": {
      "text/plain": [
       "[('id', 'bigint'), ('features', 'vector')]"
      ]
     },
     "execution_count": 33,
     "metadata": {},
     "output_type": "execute_result"
    }
   ],
   "source": [
    "realtime_data.dtypes"
   ]
  },
  {
   "cell_type": "code",
   "execution_count": 34,
   "id": "80eb938d-6712-4297-9253-0cc73b6c1969",
   "metadata": {
    "tags": []
   },
   "outputs": [],
   "source": [
    "predictions = loaded_model.transform(realtime_data)"
   ]
  },
  {
   "cell_type": "code",
   "execution_count": 35,
   "id": "7d463b99-97a4-4add-8381-a62abc233584",
   "metadata": {
    "tags": []
   },
   "outputs": [
    {
     "name": "stdout",
     "output_type": "stream",
     "text": [
      "root\n",
      " |-- id: long (nullable = false)\n",
      " |-- features: vector (nullable = true)\n",
      " |-- rawPrediction: vector (nullable = true)\n",
      " |-- probability: vector (nullable = true)\n",
      " |-- prediction: double (nullable = false)\n",
      "\n"
     ]
    }
   ],
   "source": [
    "predictions.printSchema()"
   ]
  },
  {
   "cell_type": "code",
   "execution_count": 47,
   "id": "2e080be2-0528-46bf-ad68-1d617960d9d2",
   "metadata": {
    "tags": []
   },
   "outputs": [
    {
     "name": "stdout",
     "output_type": "stream",
     "text": [
      "+-----------------------------------------------------+----------+----------------------------------------+\n",
      "|features                                             |prediction|probability                             |\n",
      "+-----------------------------------------------------+----------+----------------------------------------+\n",
      "|[0.0,87.0,21.0,5.88,0.0,0.0,310.0,31.5,1022.0,0.0]   |0.0       |[0.7590338038950871,0.24096619610491288]|\n",
      "|[-16.0,43.0,21.0,5.88,0.0,0.0,310.0,31.5,1022.0,1.0] |0.0       |[0.9160584954639378,0.0839415045360622] |\n",
      "|[-15.0,68.0,20.0,5.88,0.0,0.0,310.0,31.5,1022.0,2.0] |0.0       |[0.9160584954639378,0.0839415045360622] |\n",
      "|[-14.0,62.0,11.0,5.88,0.0,0.0,310.0,31.5,1022.0,3.0] |0.0       |[0.9118810672939638,0.08811893270603621]|\n",
      "|[906.0,55.0,20.0,5.88,0.0,0.0,310.0,31.5,1022.0,4.0] |1.0       |[0.06552106523960509,0.9344789347603949]|\n",
      "|[-19.0,109.0,16.0,5.88,0.0,0.0,310.0,31.5,1022.0,5.0]|0.0       |[0.9193055768343861,0.08069442316561393]|\n",
      "|[2.0,64.0,17.0,5.88,0.0,0.0,310.0,31.5,1022.0,6.0]   |1.0       |[0.44263736824236694,0.557362631757633] |\n",
      "|[70.0,104.0,21.0,5.88,0.0,0.0,310.0,31.5,1022.0,7.0] |1.0       |[0.09520073881453239,0.9047992611854676]|\n",
      "|[-21.0,38.0,20.0,5.88,0.0,0.0,310.0,31.5,1022.0,8.0] |0.0       |[0.9267144646695505,0.07328553533044946]|\n",
      "|[-6.0,59.0,20.0,5.88,0.0,0.0,310.0,31.5,1022.0,9.0]  |0.0       |[0.8312946309988901,0.16870536900110988]|\n",
      "+-----------------------------------------------------+----------+----------------------------------------+\n",
      "only showing top 10 rows\n",
      "\n"
     ]
    }
   ],
   "source": [
    "predictions.select(\"features\", \"prediction\", \"probability\").show(10, truncate=False)"
   ]
  },
  {
   "cell_type": "code",
   "execution_count": 42,
   "id": "9a024f0f-3535-4d2c-b160-8266ae92537c",
   "metadata": {
    "tags": []
   },
   "outputs": [
    {
     "data": {
      "text/html": [
       "<div>\n",
       "<style scoped>\n",
       "    .dataframe tbody tr th:only-of-type {\n",
       "        vertical-align: middle;\n",
       "    }\n",
       "\n",
       "    .dataframe tbody tr th {\n",
       "        vertical-align: top;\n",
       "    }\n",
       "\n",
       "    .dataframe thead th {\n",
       "        text-align: right;\n",
       "    }\n",
       "</style>\n",
       "<table border=\"1\" class=\"dataframe\">\n",
       "  <thead>\n",
       "    <tr style=\"text-align: right;\">\n",
       "      <th></th>\n",
       "      <th>flightdate</th>\n",
       "      <th>day_of_week</th>\n",
       "      <th>airline</th>\n",
       "      <th>tail_number</th>\n",
       "      <th>dep_airport</th>\n",
       "      <th>dep_cityname</th>\n",
       "      <th>deptime_label</th>\n",
       "      <th>dep_delay</th>\n",
       "      <th>dep_delay_tag</th>\n",
       "      <th>dep_delay_type</th>\n",
       "      <th>arr_airport</th>\n",
       "      <th>arr_cityname</th>\n",
       "      <th>arr_delay</th>\n",
       "      <th>arr_delay_type</th>\n",
       "      <th>flight_duration</th>\n",
       "      <th>distance_type</th>\n",
       "      <th>delay_carrier</th>\n",
       "      <th>delay_weather</th>\n",
       "      <th>delay_nas</th>\n",
       "      <th>delay_security</th>\n",
       "      <th>delay_lastaircraft</th>\n",
       "      <th>manufacturer</th>\n",
       "      <th>model</th>\n",
       "      <th>aicraft_age</th>\n",
       "      <th>tavg</th>\n",
       "      <th>tmin</th>\n",
       "      <th>tmax</th>\n",
       "      <th>prcp</th>\n",
       "      <th>snow</th>\n",
       "      <th>wdir</th>\n",
       "      <th>wspd</th>\n",
       "      <th>pres</th>\n",
       "      <th>prediction</th>\n",
       "    </tr>\n",
       "  </thead>\n",
       "  <tbody>\n",
       "    <tr>\n",
       "      <th>0</th>\n",
       "      <td>2025-01-01</td>\n",
       "      <td>7</td>\n",
       "      <td>Endeavor Air</td>\n",
       "      <td>N601LR</td>\n",
       "      <td>ATL</td>\n",
       "      <td>Atlanta, GA</td>\n",
       "      <td>Morning</td>\n",
       "      <td>-2</td>\n",
       "      <td>0</td>\n",
       "      <td>Low &lt;5min</td>\n",
       "      <td>GNV</td>\n",
       "      <td>Gainesville, FL</td>\n",
       "      <td>-6</td>\n",
       "      <td>Low &lt;5min</td>\n",
       "      <td>81</td>\n",
       "      <td>Short Haul &gt;1500Mi</td>\n",
       "      <td>0</td>\n",
       "      <td>0</td>\n",
       "      <td>0</td>\n",
       "      <td>0</td>\n",
       "      <td>0</td>\n",
       "      <td>CANADAIR REGIONAL JET</td>\n",
       "      <td>CRJ</td>\n",
       "      <td>17</td>\n",
       "      <td>5.88</td>\n",
       "      <td>2.10</td>\n",
       "      <td>9.66</td>\n",
       "      <td>0.00</td>\n",
       "      <td>0.0</td>\n",
       "      <td>310.0</td>\n",
       "      <td>31.50</td>\n",
       "      <td>1022.0</td>\n",
       "      <td>0.0</td>\n",
       "    </tr>\n",
       "    <tr>\n",
       "      <th>1</th>\n",
       "      <td>2025-01-01</td>\n",
       "      <td>7</td>\n",
       "      <td>Endeavor Air</td>\n",
       "      <td>N153PQ</td>\n",
       "      <td>ATL</td>\n",
       "      <td>Atlanta, GA</td>\n",
       "      <td>Evening</td>\n",
       "      <td>-5</td>\n",
       "      <td>0</td>\n",
       "      <td>Low &lt;5min</td>\n",
       "      <td>ABE</td>\n",
       "      <td>Allentown/Bethlehem/Easton, PA</td>\n",
       "      <td>-1</td>\n",
       "      <td>Low &lt;5min</td>\n",
       "      <td>117</td>\n",
       "      <td>Short Haul &gt;1500Mi</td>\n",
       "      <td>0</td>\n",
       "      <td>0</td>\n",
       "      <td>0</td>\n",
       "      <td>0</td>\n",
       "      <td>0</td>\n",
       "      <td>CANADAIR REGIONAL JET</td>\n",
       "      <td>CRJ</td>\n",
       "      <td>17</td>\n",
       "      <td>5.88</td>\n",
       "      <td>2.10</td>\n",
       "      <td>9.66</td>\n",
       "      <td>0.00</td>\n",
       "      <td>0.0</td>\n",
       "      <td>310.0</td>\n",
       "      <td>31.50</td>\n",
       "      <td>1022.0</td>\n",
       "      <td>0.0</td>\n",
       "    </tr>\n",
       "    <tr>\n",
       "      <th>2</th>\n",
       "      <td>2025-01-01</td>\n",
       "      <td>7</td>\n",
       "      <td>Delta Air Lines Inc</td>\n",
       "      <td>N807DN</td>\n",
       "      <td>ATL</td>\n",
       "      <td>Atlanta, GA</td>\n",
       "      <td>Evening</td>\n",
       "      <td>-2</td>\n",
       "      <td>0</td>\n",
       "      <td>Low &lt;5min</td>\n",
       "      <td>CVG</td>\n",
       "      <td>Cincinnati, OH</td>\n",
       "      <td>0</td>\n",
       "      <td>Low &lt;5min</td>\n",
       "      <td>86</td>\n",
       "      <td>Short Haul &gt;1500Mi</td>\n",
       "      <td>0</td>\n",
       "      <td>0</td>\n",
       "      <td>0</td>\n",
       "      <td>0</td>\n",
       "      <td>0</td>\n",
       "      <td>BOEING</td>\n",
       "      <td>737 NG</td>\n",
       "      <td>11</td>\n",
       "      <td>5.88</td>\n",
       "      <td>2.10</td>\n",
       "      <td>9.66</td>\n",
       "      <td>0.00</td>\n",
       "      <td>0.0</td>\n",
       "      <td>310.0</td>\n",
       "      <td>31.50</td>\n",
       "      <td>1022.0</td>\n",
       "      <td>0.0</td>\n",
       "    </tr>\n",
       "    <tr>\n",
       "      <th>3</th>\n",
       "      <td>2025-01-01</td>\n",
       "      <td>7</td>\n",
       "      <td>Southwest Airlines Co.</td>\n",
       "      <td>N413WN</td>\n",
       "      <td>LAX</td>\n",
       "      <td>Los Angeles, CA</td>\n",
       "      <td>Night</td>\n",
       "      <td>-1</td>\n",
       "      <td>0</td>\n",
       "      <td>Low &lt;5min</td>\n",
       "      <td>PHX</td>\n",
       "      <td>Phoenix, AZ</td>\n",
       "      <td>-26</td>\n",
       "      <td>Low &lt;5min</td>\n",
       "      <td>70</td>\n",
       "      <td>Short Haul &gt;1500Mi</td>\n",
       "      <td>0</td>\n",
       "      <td>0</td>\n",
       "      <td>0</td>\n",
       "      <td>0</td>\n",
       "      <td>0</td>\n",
       "      <td>BOEING</td>\n",
       "      <td>737 NG</td>\n",
       "      <td>23</td>\n",
       "      <td>14.77</td>\n",
       "      <td>10.24</td>\n",
       "      <td>19.29</td>\n",
       "      <td>0.00</td>\n",
       "      <td>0.0</td>\n",
       "      <td>280.0</td>\n",
       "      <td>16.67</td>\n",
       "      <td>1018.0</td>\n",
       "      <td>0.0</td>\n",
       "    </tr>\n",
       "    <tr>\n",
       "      <th>4</th>\n",
       "      <td>2025-01-01</td>\n",
       "      <td>7</td>\n",
       "      <td>United Air Lines Inc.</td>\n",
       "      <td>N26232</td>\n",
       "      <td>LGA</td>\n",
       "      <td>New York, NY</td>\n",
       "      <td>Afternoon</td>\n",
       "      <td>-10</td>\n",
       "      <td>0</td>\n",
       "      <td>Low &lt;5min</td>\n",
       "      <td>DEN</td>\n",
       "      <td>Denver, CO</td>\n",
       "      <td>-11</td>\n",
       "      <td>Low &lt;5min</td>\n",
       "      <td>274</td>\n",
       "      <td>Medium Haul &lt;3000Mi</td>\n",
       "      <td>0</td>\n",
       "      <td>0</td>\n",
       "      <td>0</td>\n",
       "      <td>0</td>\n",
       "      <td>0</td>\n",
       "      <td>BOEING</td>\n",
       "      <td>737 NG</td>\n",
       "      <td>25</td>\n",
       "      <td>7.11</td>\n",
       "      <td>4.39</td>\n",
       "      <td>9.83</td>\n",
       "      <td>0.00</td>\n",
       "      <td>0.0</td>\n",
       "      <td>300.0</td>\n",
       "      <td>51.84</td>\n",
       "      <td>1000.0</td>\n",
       "      <td>0.0</td>\n",
       "    </tr>\n",
       "    <tr>\n",
       "      <th>5</th>\n",
       "      <td>2025-01-01</td>\n",
       "      <td>7</td>\n",
       "      <td>Frontier Airlines Inc.</td>\n",
       "      <td>N388FR</td>\n",
       "      <td>MDW</td>\n",
       "      <td>Chicago, IL</td>\n",
       "      <td>Afternoon</td>\n",
       "      <td>2</td>\n",
       "      <td>1</td>\n",
       "      <td>Low &lt;5min</td>\n",
       "      <td>PHL</td>\n",
       "      <td>Philadelphia, PA</td>\n",
       "      <td>-9</td>\n",
       "      <td>Low &lt;5min</td>\n",
       "      <td>102</td>\n",
       "      <td>Short Haul &gt;1500Mi</td>\n",
       "      <td>0</td>\n",
       "      <td>0</td>\n",
       "      <td>0</td>\n",
       "      <td>0</td>\n",
       "      <td>0</td>\n",
       "      <td>AIRBUS</td>\n",
       "      <td>A320</td>\n",
       "      <td>2</td>\n",
       "      <td>-1.71</td>\n",
       "      <td>-4.54</td>\n",
       "      <td>1.12</td>\n",
       "      <td>0.19</td>\n",
       "      <td>0.0</td>\n",
       "      <td>284.0</td>\n",
       "      <td>41.83</td>\n",
       "      <td>1020.0</td>\n",
       "      <td>0.0</td>\n",
       "    </tr>\n",
       "    <tr>\n",
       "      <th>6</th>\n",
       "      <td>2025-01-01</td>\n",
       "      <td>7</td>\n",
       "      <td>Southwest Airlines Co.</td>\n",
       "      <td>N8803L</td>\n",
       "      <td>MDW</td>\n",
       "      <td>Chicago, IL</td>\n",
       "      <td>Evening</td>\n",
       "      <td>37</td>\n",
       "      <td>1</td>\n",
       "      <td>Medium &gt;15min</td>\n",
       "      <td>LAX</td>\n",
       "      <td>Los Angeles, CA</td>\n",
       "      <td>40</td>\n",
       "      <td>Medium &gt;15min</td>\n",
       "      <td>273</td>\n",
       "      <td>Medium Haul &lt;3000Mi</td>\n",
       "      <td>0</td>\n",
       "      <td>0</td>\n",
       "      <td>3</td>\n",
       "      <td>0</td>\n",
       "      <td>37</td>\n",
       "      <td>BOEING</td>\n",
       "      <td>737 NG</td>\n",
       "      <td>5</td>\n",
       "      <td>-1.71</td>\n",
       "      <td>-4.54</td>\n",
       "      <td>1.12</td>\n",
       "      <td>0.19</td>\n",
       "      <td>0.0</td>\n",
       "      <td>284.0</td>\n",
       "      <td>41.83</td>\n",
       "      <td>1020.0</td>\n",
       "      <td>1.0</td>\n",
       "    </tr>\n",
       "    <tr>\n",
       "      <th>7</th>\n",
       "      <td>2025-01-01</td>\n",
       "      <td>7</td>\n",
       "      <td>American Airlines Inc.</td>\n",
       "      <td>N180US</td>\n",
       "      <td>ORD</td>\n",
       "      <td>Chicago, IL</td>\n",
       "      <td>Morning</td>\n",
       "      <td>7</td>\n",
       "      <td>1</td>\n",
       "      <td>Low &lt;5min</td>\n",
       "      <td>DFW</td>\n",
       "      <td>Dallas/Fort Worth, TX</td>\n",
       "      <td>-3</td>\n",
       "      <td>Low &lt;5min</td>\n",
       "      <td>143</td>\n",
       "      <td>Short Haul &gt;1500Mi</td>\n",
       "      <td>0</td>\n",
       "      <td>0</td>\n",
       "      <td>0</td>\n",
       "      <td>0</td>\n",
       "      <td>0</td>\n",
       "      <td>AIRBUS</td>\n",
       "      <td>A321</td>\n",
       "      <td>23</td>\n",
       "      <td>-1.71</td>\n",
       "      <td>-4.54</td>\n",
       "      <td>1.12</td>\n",
       "      <td>0.19</td>\n",
       "      <td>0.0</td>\n",
       "      <td>284.0</td>\n",
       "      <td>41.83</td>\n",
       "      <td>1020.0</td>\n",
       "      <td>0.0</td>\n",
       "    </tr>\n",
       "    <tr>\n",
       "      <th>8</th>\n",
       "      <td>2025-01-01</td>\n",
       "      <td>7</td>\n",
       "      <td>Alaska Airlines Inc.</td>\n",
       "      <td>N971AK</td>\n",
       "      <td>ORD</td>\n",
       "      <td>Chicago, IL</td>\n",
       "      <td>Evening</td>\n",
       "      <td>-4</td>\n",
       "      <td>0</td>\n",
       "      <td>Low &lt;5min</td>\n",
       "      <td>SEA</td>\n",
       "      <td>Seattle, WA</td>\n",
       "      <td>-25</td>\n",
       "      <td>Low &lt;5min</td>\n",
       "      <td>263</td>\n",
       "      <td>Medium Haul &lt;3000Mi</td>\n",
       "      <td>0</td>\n",
       "      <td>0</td>\n",
       "      <td>0</td>\n",
       "      <td>0</td>\n",
       "      <td>0</td>\n",
       "      <td>BOEING</td>\n",
       "      <td>737 NG</td>\n",
       "      <td>6</td>\n",
       "      <td>-1.71</td>\n",
       "      <td>-4.54</td>\n",
       "      <td>1.12</td>\n",
       "      <td>0.19</td>\n",
       "      <td>0.0</td>\n",
       "      <td>284.0</td>\n",
       "      <td>41.83</td>\n",
       "      <td>1020.0</td>\n",
       "      <td>0.0</td>\n",
       "    </tr>\n",
       "    <tr>\n",
       "      <th>9</th>\n",
       "      <td>2025-01-01</td>\n",
       "      <td>7</td>\n",
       "      <td>Southwest Airlines Co.</td>\n",
       "      <td>N240WN</td>\n",
       "      <td>ORD</td>\n",
       "      <td>Chicago, IL</td>\n",
       "      <td>Evening</td>\n",
       "      <td>10</td>\n",
       "      <td>1</td>\n",
       "      <td>Low &lt;5min</td>\n",
       "      <td>DEN</td>\n",
       "      <td>Denver, CO</td>\n",
       "      <td>15</td>\n",
       "      <td>Low &lt;5min</td>\n",
       "      <td>180</td>\n",
       "      <td>Short Haul &gt;1500Mi</td>\n",
       "      <td>0</td>\n",
       "      <td>0</td>\n",
       "      <td>5</td>\n",
       "      <td>0</td>\n",
       "      <td>10</td>\n",
       "      <td>BOEING</td>\n",
       "      <td>737 NG</td>\n",
       "      <td>18</td>\n",
       "      <td>-1.71</td>\n",
       "      <td>-4.54</td>\n",
       "      <td>1.12</td>\n",
       "      <td>0.19</td>\n",
       "      <td>0.0</td>\n",
       "      <td>284.0</td>\n",
       "      <td>41.83</td>\n",
       "      <td>1020.0</td>\n",
       "      <td>0.0</td>\n",
       "    </tr>\n",
       "  </tbody>\n",
       "</table>\n",
       "</div>"
      ],
      "text/plain": [
       "   flightdate  day_of_week                 airline tail_number dep_airport  \\\n",
       "0  2025-01-01            7            Endeavor Air      N601LR         ATL   \n",
       "1  2025-01-01            7            Endeavor Air      N153PQ         ATL   \n",
       "2  2025-01-01            7     Delta Air Lines Inc      N807DN         ATL   \n",
       "3  2025-01-01            7  Southwest Airlines Co.      N413WN         LAX   \n",
       "4  2025-01-01            7   United Air Lines Inc.      N26232         LGA   \n",
       "5  2025-01-01            7  Frontier Airlines Inc.      N388FR         MDW   \n",
       "6  2025-01-01            7  Southwest Airlines Co.      N8803L         MDW   \n",
       "7  2025-01-01            7  American Airlines Inc.      N180US         ORD   \n",
       "8  2025-01-01            7    Alaska Airlines Inc.      N971AK         ORD   \n",
       "9  2025-01-01            7  Southwest Airlines Co.      N240WN         ORD   \n",
       "\n",
       "      dep_cityname deptime_label  dep_delay  dep_delay_tag dep_delay_type  \\\n",
       "0      Atlanta, GA       Morning         -2              0      Low <5min   \n",
       "1      Atlanta, GA       Evening         -5              0      Low <5min   \n",
       "2      Atlanta, GA       Evening         -2              0      Low <5min   \n",
       "3  Los Angeles, CA         Night         -1              0      Low <5min   \n",
       "4     New York, NY     Afternoon        -10              0      Low <5min   \n",
       "5      Chicago, IL     Afternoon          2              1      Low <5min   \n",
       "6      Chicago, IL       Evening         37              1  Medium >15min   \n",
       "7      Chicago, IL       Morning          7              1      Low <5min   \n",
       "8      Chicago, IL       Evening         -4              0      Low <5min   \n",
       "9      Chicago, IL       Evening         10              1      Low <5min   \n",
       "\n",
       "  arr_airport                    arr_cityname  arr_delay arr_delay_type  \\\n",
       "0         GNV                 Gainesville, FL         -6      Low <5min   \n",
       "1         ABE  Allentown/Bethlehem/Easton, PA         -1      Low <5min   \n",
       "2         CVG                  Cincinnati, OH          0      Low <5min   \n",
       "3         PHX                     Phoenix, AZ        -26      Low <5min   \n",
       "4         DEN                      Denver, CO        -11      Low <5min   \n",
       "5         PHL                Philadelphia, PA         -9      Low <5min   \n",
       "6         LAX                 Los Angeles, CA         40  Medium >15min   \n",
       "7         DFW           Dallas/Fort Worth, TX         -3      Low <5min   \n",
       "8         SEA                     Seattle, WA        -25      Low <5min   \n",
       "9         DEN                      Denver, CO         15      Low <5min   \n",
       "\n",
       "   flight_duration        distance_type  delay_carrier  delay_weather  \\\n",
       "0               81   Short Haul >1500Mi              0              0   \n",
       "1              117   Short Haul >1500Mi              0              0   \n",
       "2               86   Short Haul >1500Mi              0              0   \n",
       "3               70   Short Haul >1500Mi              0              0   \n",
       "4              274  Medium Haul <3000Mi              0              0   \n",
       "5              102   Short Haul >1500Mi              0              0   \n",
       "6              273  Medium Haul <3000Mi              0              0   \n",
       "7              143   Short Haul >1500Mi              0              0   \n",
       "8              263  Medium Haul <3000Mi              0              0   \n",
       "9              180   Short Haul >1500Mi              0              0   \n",
       "\n",
       "   delay_nas  delay_security  delay_lastaircraft           manufacturer  \\\n",
       "0          0               0                   0  CANADAIR REGIONAL JET   \n",
       "1          0               0                   0  CANADAIR REGIONAL JET   \n",
       "2          0               0                   0                 BOEING   \n",
       "3          0               0                   0                 BOEING   \n",
       "4          0               0                   0                 BOEING   \n",
       "5          0               0                   0                 AIRBUS   \n",
       "6          3               0                  37                 BOEING   \n",
       "7          0               0                   0                 AIRBUS   \n",
       "8          0               0                   0                 BOEING   \n",
       "9          5               0                  10                 BOEING   \n",
       "\n",
       "    model  aicraft_age   tavg   tmin   tmax  prcp  snow   wdir   wspd    pres  \\\n",
       "0     CRJ           17   5.88   2.10   9.66  0.00   0.0  310.0  31.50  1022.0   \n",
       "1     CRJ           17   5.88   2.10   9.66  0.00   0.0  310.0  31.50  1022.0   \n",
       "2  737 NG           11   5.88   2.10   9.66  0.00   0.0  310.0  31.50  1022.0   \n",
       "3  737 NG           23  14.77  10.24  19.29  0.00   0.0  280.0  16.67  1018.0   \n",
       "4  737 NG           25   7.11   4.39   9.83  0.00   0.0  300.0  51.84  1000.0   \n",
       "5    A320            2  -1.71  -4.54   1.12  0.19   0.0  284.0  41.83  1020.0   \n",
       "6  737 NG            5  -1.71  -4.54   1.12  0.19   0.0  284.0  41.83  1020.0   \n",
       "7    A321           23  -1.71  -4.54   1.12  0.19   0.0  284.0  41.83  1020.0   \n",
       "8  737 NG            6  -1.71  -4.54   1.12  0.19   0.0  284.0  41.83  1020.0   \n",
       "9  737 NG           18  -1.71  -4.54   1.12  0.19   0.0  284.0  41.83  1020.0   \n",
       "\n",
       "   prediction  \n",
       "0         0.0  \n",
       "1         0.0  \n",
       "2         0.0  \n",
       "3         0.0  \n",
       "4         0.0  \n",
       "5         0.0  \n",
       "6         1.0  \n",
       "7         0.0  \n",
       "8         0.0  \n",
       "9         0.0  "
      ]
     },
     "execution_count": 42,
     "metadata": {},
     "output_type": "execute_result"
    }
   ],
   "source": [
    "streaming_df = streaming_df.withColumn(\"id\", monotonically_increasing_id())\n",
    "predictions = predictions.withColumn(\"id\", monotonically_increasing_id())\n",
    "\n",
    "streaming_with_predictions = streaming_df.join(predictions.select(\"id\", \"prediction\"), on=\"id\", how=\"inner\")\n",
    "\n",
    "streaming_with_predictions = streaming_with_predictions.drop(\"id\")\n",
    "\n",
    "# Convert PySpark DataFrame to Pandas DataFrame\n",
    "prediction_df = streaming_with_predictions.toPandas()\n",
    "\n",
    "# Display the Pandas DataFrame\n",
    "prediction_df.head(10)"
   ]
  },
  {
   "cell_type": "code",
   "execution_count": 44,
   "id": "cf6c1115-9b86-4a5a-9a2d-1bc2795e6d13",
   "metadata": {
    "tags": []
   },
   "outputs": [],
   "source": [
    "s3_resource = boto3.Session().resource('s3')\n",
    "\n",
    "s3_bucket = 'big-data-team1-bucket'\n",
    "prediction_data_file = \"prediction_data.csv\"\n",
    "\n",
    "\n",
    "def upload_s3_csv(filename, folder, dataframe):\n",
    "    csv_buffer = StringIO()\n",
    "    dataframe.to_csv(csv_buffer, header=True, index=False)\n",
    "    s3_resource.Bucket(s3_bucket).Object(os.path.join(folder, filename)).put(Body=csv_buffer.getvalue())"
   ]
  },
  {
   "cell_type": "code",
   "execution_count": 45,
   "id": "d5b2c4aa-bc11-46b5-8491-a52d05c799bf",
   "metadata": {
    "tags": []
   },
   "outputs": [],
   "source": [
    "upload_s3_csv(prediction_data_file, \"prediction-data\", prediction_df)"
   ]
  },
  {
   "cell_type": "code",
   "execution_count": null,
   "id": "9092394b-86cd-4a97-aca2-f69292cb09c4",
   "metadata": {},
   "outputs": [],
   "source": []
  }
 ],
 "metadata": {
  "kernelspec": {
   "display_name": "conda_python3",
   "language": "python",
   "name": "conda_python3"
  },
  "language_info": {
   "codemirror_mode": {
    "name": "ipython",
    "version": 3
   },
   "file_extension": ".py",
   "mimetype": "text/x-python",
   "name": "python",
   "nbconvert_exporter": "python",
   "pygments_lexer": "ipython3",
   "version": "3.10.16"
  }
 },
 "nbformat": 4,
 "nbformat_minor": 5
}
