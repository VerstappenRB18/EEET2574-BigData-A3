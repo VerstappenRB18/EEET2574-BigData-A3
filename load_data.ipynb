{
 "cells": [
  {
   "cell_type": "markdown",
   "id": "cc5fcc86-8186-42af-8736-57613a49ba68",
   "metadata": {},
   "source": [
    "## Import Libraries"
   ]
  },
  {
   "cell_type": "code",
   "execution_count": 1,
   "id": "7054f2be-ee9e-4d9e-b338-e67423eade29",
   "metadata": {},
   "outputs": [
    {
     "name": "stderr",
     "output_type": "stream",
     "text": [
      "D:\\Python312\\Lib\\site-packages\\pydantic\\_internal\\_fields.py:192: UserWarning: Field name \"json\" in \"MonitoringDatasetFormat\" shadows an attribute in parent \"Base\"\n",
      "  warnings.warn(\n"
     ]
    },
    {
     "name": "stdout",
     "output_type": "stream",
     "text": [
      "sagemaker.config INFO - Not applying SDK defaults from location: C:\\ProgramData\\sagemaker\\sagemaker\\config.yaml\n",
      "sagemaker.config INFO - Not applying SDK defaults from location: C:\\Users\\Admin\\AppData\\Local\\sagemaker\\sagemaker\\config.yaml\n"
     ]
    }
   ],
   "source": [
    "import boto3\n",
    "import sagemaker\n",
    "import warnings, requests, zipfile, io\n",
    "import pandas as pd\n",
    "import os\n",
    "warnings.simplefilter('ignore')"
   ]
  },
  {
   "cell_type": "markdown",
   "id": "2ad27c8b-7380-41de-b3ad-c399223b3a7e",
   "metadata": {},
   "source": [
    "## Import the Data"
   ]
  },
  {
   "cell_type": "code",
   "execution_count": 2,
   "id": "dc53528c-fe3b-4c58-980c-17253d35af30",
   "metadata": {},
   "outputs": [],
   "source": [
    "zip_file = \"2023-us-flights-delay.zip\"\n",
    "\n",
    "with zipfile.ZipFile(zip_file, 'r') as zip_ref:\n",
    "    zip_ref.extractall()"
   ]
  },
  {
   "cell_type": "markdown",
   "id": "cede041d-23f3-421e-9b68-e53f1f238512",
   "metadata": {},
   "source": [
    "## Exploratory Data Analysis"
   ]
  },
  {
   "cell_type": "markdown",
   "id": "6450f1b5-4a5c-4948-8e3f-66c248768a73",
   "metadata": {},
   "source": [
    "### US Flights Dataset"
   ]
  },
  {
   "cell_type": "code",
   "execution_count": 3,
   "id": "39f0509c-b905-4c3f-8c20-8cb7120ab44c",
   "metadata": {},
   "outputs": [],
   "source": [
    "flight_df = pd.read_csv('2023-us-flights-delay/US_flights_2023.csv')"
   ]
  },
  {
   "cell_type": "code",
   "execution_count": 4,
   "id": "a303f6a4-3d50-4413-a0aa-da9de9183f8a",
   "metadata": {},
   "outputs": [
    {
     "data": {
      "text/plain": [
       "(6743404, 24)"
      ]
     },
     "execution_count": 4,
     "metadata": {},
     "output_type": "execute_result"
    }
   ],
   "source": [
    "flight_df.shape"
   ]
  },
  {
   "cell_type": "code",
   "execution_count": 5,
   "id": "fe7082d4-d40e-4f33-b09b-560e048cfeeb",
   "metadata": {},
   "outputs": [
    {
     "data": {
      "text/plain": [
       "FlightDate            object\n",
       "Day_Of_Week            int64\n",
       "Airline               object\n",
       "Tail_Number           object\n",
       "Dep_Airport           object\n",
       "Dep_CityName          object\n",
       "DepTime_label         object\n",
       "Dep_Delay              int64\n",
       "Dep_Delay_Tag          int64\n",
       "Dep_Delay_Type        object\n",
       "Arr_Airport           object\n",
       "Arr_CityName          object\n",
       "Arr_Delay              int64\n",
       "Arr_Delay_Type        object\n",
       "Flight_Duration        int64\n",
       "Distance_type         object\n",
       "Delay_Carrier          int64\n",
       "Delay_Weather          int64\n",
       "Delay_NAS              int64\n",
       "Delay_Security         int64\n",
       "Delay_LastAircraft     int64\n",
       "Manufacturer          object\n",
       "Model                 object\n",
       "Aicraft_age            int64\n",
       "dtype: object"
      ]
     },
     "execution_count": 5,
     "metadata": {},
     "output_type": "execute_result"
    }
   ],
   "source": [
    "flight_df.dtypes"
   ]
  },
  {
   "cell_type": "code",
   "execution_count": 6,
   "id": "c04f1d60-f7e9-4b10-b9f2-fe424a6779e9",
   "metadata": {},
   "outputs": [
    {
     "data": {
      "text/html": [
       "<div>\n",
       "<style scoped>\n",
       "    .dataframe tbody tr th:only-of-type {\n",
       "        vertical-align: middle;\n",
       "    }\n",
       "\n",
       "    .dataframe tbody tr th {\n",
       "        vertical-align: top;\n",
       "    }\n",
       "\n",
       "    .dataframe thead th {\n",
       "        text-align: right;\n",
       "    }\n",
       "</style>\n",
       "<table border=\"1\" class=\"dataframe\">\n",
       "  <thead>\n",
       "    <tr style=\"text-align: right;\">\n",
       "      <th></th>\n",
       "      <th>FlightDate</th>\n",
       "      <th>Day_Of_Week</th>\n",
       "      <th>Airline</th>\n",
       "      <th>Tail_Number</th>\n",
       "      <th>Dep_Airport</th>\n",
       "      <th>Dep_CityName</th>\n",
       "      <th>DepTime_label</th>\n",
       "      <th>Dep_Delay</th>\n",
       "      <th>Dep_Delay_Tag</th>\n",
       "      <th>Dep_Delay_Type</th>\n",
       "      <th>...</th>\n",
       "      <th>Flight_Duration</th>\n",
       "      <th>Distance_type</th>\n",
       "      <th>Delay_Carrier</th>\n",
       "      <th>Delay_Weather</th>\n",
       "      <th>Delay_NAS</th>\n",
       "      <th>Delay_Security</th>\n",
       "      <th>Delay_LastAircraft</th>\n",
       "      <th>Manufacturer</th>\n",
       "      <th>Model</th>\n",
       "      <th>Aicraft_age</th>\n",
       "    </tr>\n",
       "  </thead>\n",
       "  <tbody>\n",
       "    <tr>\n",
       "      <th>0</th>\n",
       "      <td>2023-01-02</td>\n",
       "      <td>1</td>\n",
       "      <td>Endeavor Air</td>\n",
       "      <td>N605LR</td>\n",
       "      <td>BDL</td>\n",
       "      <td>Hartford, CT</td>\n",
       "      <td>Morning</td>\n",
       "      <td>-3</td>\n",
       "      <td>0</td>\n",
       "      <td>Low &lt;5min</td>\n",
       "      <td>...</td>\n",
       "      <td>56</td>\n",
       "      <td>Short Haul &gt;1500Mi</td>\n",
       "      <td>0</td>\n",
       "      <td>0</td>\n",
       "      <td>0</td>\n",
       "      <td>0</td>\n",
       "      <td>0</td>\n",
       "      <td>CANADAIR REGIONAL JET</td>\n",
       "      <td>CRJ</td>\n",
       "      <td>16</td>\n",
       "    </tr>\n",
       "    <tr>\n",
       "      <th>1</th>\n",
       "      <td>2023-01-03</td>\n",
       "      <td>2</td>\n",
       "      <td>Endeavor Air</td>\n",
       "      <td>N605LR</td>\n",
       "      <td>BDL</td>\n",
       "      <td>Hartford, CT</td>\n",
       "      <td>Morning</td>\n",
       "      <td>-5</td>\n",
       "      <td>0</td>\n",
       "      <td>Low &lt;5min</td>\n",
       "      <td>...</td>\n",
       "      <td>62</td>\n",
       "      <td>Short Haul &gt;1500Mi</td>\n",
       "      <td>0</td>\n",
       "      <td>0</td>\n",
       "      <td>0</td>\n",
       "      <td>0</td>\n",
       "      <td>0</td>\n",
       "      <td>CANADAIR REGIONAL JET</td>\n",
       "      <td>CRJ</td>\n",
       "      <td>16</td>\n",
       "    </tr>\n",
       "    <tr>\n",
       "      <th>2</th>\n",
       "      <td>2023-01-04</td>\n",
       "      <td>3</td>\n",
       "      <td>Endeavor Air</td>\n",
       "      <td>N331PQ</td>\n",
       "      <td>BDL</td>\n",
       "      <td>Hartford, CT</td>\n",
       "      <td>Morning</td>\n",
       "      <td>-5</td>\n",
       "      <td>0</td>\n",
       "      <td>Low &lt;5min</td>\n",
       "      <td>...</td>\n",
       "      <td>49</td>\n",
       "      <td>Short Haul &gt;1500Mi</td>\n",
       "      <td>0</td>\n",
       "      <td>0</td>\n",
       "      <td>0</td>\n",
       "      <td>0</td>\n",
       "      <td>0</td>\n",
       "      <td>CANADAIR REGIONAL JET</td>\n",
       "      <td>CRJ</td>\n",
       "      <td>10</td>\n",
       "    </tr>\n",
       "    <tr>\n",
       "      <th>3</th>\n",
       "      <td>2023-01-05</td>\n",
       "      <td>4</td>\n",
       "      <td>Endeavor Air</td>\n",
       "      <td>N906XJ</td>\n",
       "      <td>BDL</td>\n",
       "      <td>Hartford, CT</td>\n",
       "      <td>Morning</td>\n",
       "      <td>-6</td>\n",
       "      <td>0</td>\n",
       "      <td>Low &lt;5min</td>\n",
       "      <td>...</td>\n",
       "      <td>54</td>\n",
       "      <td>Short Haul &gt;1500Mi</td>\n",
       "      <td>0</td>\n",
       "      <td>0</td>\n",
       "      <td>0</td>\n",
       "      <td>0</td>\n",
       "      <td>0</td>\n",
       "      <td>CANADAIR REGIONAL JET</td>\n",
       "      <td>CRJ</td>\n",
       "      <td>17</td>\n",
       "    </tr>\n",
       "    <tr>\n",
       "      <th>4</th>\n",
       "      <td>2023-01-06</td>\n",
       "      <td>5</td>\n",
       "      <td>Endeavor Air</td>\n",
       "      <td>N337PQ</td>\n",
       "      <td>BDL</td>\n",
       "      <td>Hartford, CT</td>\n",
       "      <td>Morning</td>\n",
       "      <td>-1</td>\n",
       "      <td>0</td>\n",
       "      <td>Low &lt;5min</td>\n",
       "      <td>...</td>\n",
       "      <td>50</td>\n",
       "      <td>Short Haul &gt;1500Mi</td>\n",
       "      <td>0</td>\n",
       "      <td>0</td>\n",
       "      <td>0</td>\n",
       "      <td>0</td>\n",
       "      <td>0</td>\n",
       "      <td>CANADAIR REGIONAL JET</td>\n",
       "      <td>CRJ</td>\n",
       "      <td>10</td>\n",
       "    </tr>\n",
       "  </tbody>\n",
       "</table>\n",
       "<p>5 rows × 24 columns</p>\n",
       "</div>"
      ],
      "text/plain": [
       "   FlightDate  Day_Of_Week       Airline Tail_Number Dep_Airport  \\\n",
       "0  2023-01-02            1  Endeavor Air      N605LR         BDL   \n",
       "1  2023-01-03            2  Endeavor Air      N605LR         BDL   \n",
       "2  2023-01-04            3  Endeavor Air      N331PQ         BDL   \n",
       "3  2023-01-05            4  Endeavor Air      N906XJ         BDL   \n",
       "4  2023-01-06            5  Endeavor Air      N337PQ         BDL   \n",
       "\n",
       "   Dep_CityName DepTime_label  Dep_Delay  Dep_Delay_Tag Dep_Delay_Type  ...  \\\n",
       "0  Hartford, CT       Morning         -3              0      Low <5min  ...   \n",
       "1  Hartford, CT       Morning         -5              0      Low <5min  ...   \n",
       "2  Hartford, CT       Morning         -5              0      Low <5min  ...   \n",
       "3  Hartford, CT       Morning         -6              0      Low <5min  ...   \n",
       "4  Hartford, CT       Morning         -1              0      Low <5min  ...   \n",
       "\n",
       "  Flight_Duration       Distance_type  Delay_Carrier Delay_Weather  Delay_NAS  \\\n",
       "0              56  Short Haul >1500Mi              0             0          0   \n",
       "1              62  Short Haul >1500Mi              0             0          0   \n",
       "2              49  Short Haul >1500Mi              0             0          0   \n",
       "3              54  Short Haul >1500Mi              0             0          0   \n",
       "4              50  Short Haul >1500Mi              0             0          0   \n",
       "\n",
       "  Delay_Security  Delay_LastAircraft           Manufacturer  Model  \\\n",
       "0              0                   0  CANADAIR REGIONAL JET    CRJ   \n",
       "1              0                   0  CANADAIR REGIONAL JET    CRJ   \n",
       "2              0                   0  CANADAIR REGIONAL JET    CRJ   \n",
       "3              0                   0  CANADAIR REGIONAL JET    CRJ   \n",
       "4              0                   0  CANADAIR REGIONAL JET    CRJ   \n",
       "\n",
       "   Aicraft_age  \n",
       "0           16  \n",
       "1           16  \n",
       "2           10  \n",
       "3           17  \n",
       "4           10  \n",
       "\n",
       "[5 rows x 24 columns]"
      ]
     },
     "execution_count": 6,
     "metadata": {},
     "output_type": "execute_result"
    }
   ],
   "source": [
    "flight_df.head(5)"
   ]
  },
  {
   "cell_type": "code",
   "execution_count": 7,
   "id": "2d258d81-f7c6-48df-a2d4-23c0a9f26502",
   "metadata": {},
   "outputs": [
    {
     "data": {
      "text/html": [
       "<div>\n",
       "<style scoped>\n",
       "    .dataframe tbody tr th:only-of-type {\n",
       "        vertical-align: middle;\n",
       "    }\n",
       "\n",
       "    .dataframe tbody tr th {\n",
       "        vertical-align: top;\n",
       "    }\n",
       "\n",
       "    .dataframe thead th {\n",
       "        text-align: right;\n",
       "    }\n",
       "</style>\n",
       "<table border=\"1\" class=\"dataframe\">\n",
       "  <thead>\n",
       "    <tr style=\"text-align: right;\">\n",
       "      <th></th>\n",
       "      <th>Day_Of_Week</th>\n",
       "      <th>Dep_Delay</th>\n",
       "      <th>Dep_Delay_Tag</th>\n",
       "      <th>Arr_Delay</th>\n",
       "      <th>Flight_Duration</th>\n",
       "      <th>Delay_Carrier</th>\n",
       "      <th>Delay_Weather</th>\n",
       "      <th>Delay_NAS</th>\n",
       "      <th>Delay_Security</th>\n",
       "      <th>Delay_LastAircraft</th>\n",
       "      <th>Aicraft_age</th>\n",
       "    </tr>\n",
       "  </thead>\n",
       "  <tbody>\n",
       "    <tr>\n",
       "      <th>count</th>\n",
       "      <td>6.743404e+06</td>\n",
       "      <td>6.743404e+06</td>\n",
       "      <td>6.743404e+06</td>\n",
       "      <td>6.743404e+06</td>\n",
       "      <td>6.743404e+06</td>\n",
       "      <td>6.743404e+06</td>\n",
       "      <td>6.743404e+06</td>\n",
       "      <td>6.743404e+06</td>\n",
       "      <td>6.743404e+06</td>\n",
       "      <td>6.743404e+06</td>\n",
       "      <td>6.743404e+06</td>\n",
       "    </tr>\n",
       "    <tr>\n",
       "      <th>mean</th>\n",
       "      <td>3.982793e+00</td>\n",
       "      <td>1.220099e+01</td>\n",
       "      <td>3.790013e-01</td>\n",
       "      <td>6.627152e+00</td>\n",
       "      <td>1.402978e+02</td>\n",
       "      <td>5.169804e+00</td>\n",
       "      <td>7.428505e-01</td>\n",
       "      <td>2.566957e+00</td>\n",
       "      <td>3.064876e-02</td>\n",
       "      <td>5.681108e+00</td>\n",
       "      <td>1.348063e+01</td>\n",
       "    </tr>\n",
       "    <tr>\n",
       "      <th>std</th>\n",
       "      <td>2.001762e+00</td>\n",
       "      <td>5.507936e+01</td>\n",
       "      <td>4.851385e-01</td>\n",
       "      <td>5.707892e+01</td>\n",
       "      <td>7.287216e+01</td>\n",
       "      <td>3.645732e+01</td>\n",
       "      <td>1.435393e+01</td>\n",
       "      <td>1.500484e+01</td>\n",
       "      <td>1.628923e+00</td>\n",
       "      <td>3.044647e+01</td>\n",
       "      <td>7.891495e+00</td>\n",
       "    </tr>\n",
       "    <tr>\n",
       "      <th>min</th>\n",
       "      <td>1.000000e+00</td>\n",
       "      <td>-9.900000e+01</td>\n",
       "      <td>0.000000e+00</td>\n",
       "      <td>-1.190000e+02</td>\n",
       "      <td>0.000000e+00</td>\n",
       "      <td>0.000000e+00</td>\n",
       "      <td>0.000000e+00</td>\n",
       "      <td>0.000000e+00</td>\n",
       "      <td>0.000000e+00</td>\n",
       "      <td>0.000000e+00</td>\n",
       "      <td>1.000000e+00</td>\n",
       "    </tr>\n",
       "    <tr>\n",
       "      <th>25%</th>\n",
       "      <td>2.000000e+00</td>\n",
       "      <td>-5.000000e+00</td>\n",
       "      <td>0.000000e+00</td>\n",
       "      <td>-1.500000e+01</td>\n",
       "      <td>8.700000e+01</td>\n",
       "      <td>0.000000e+00</td>\n",
       "      <td>0.000000e+00</td>\n",
       "      <td>0.000000e+00</td>\n",
       "      <td>0.000000e+00</td>\n",
       "      <td>0.000000e+00</td>\n",
       "      <td>7.000000e+00</td>\n",
       "    </tr>\n",
       "    <tr>\n",
       "      <th>50%</th>\n",
       "      <td>4.000000e+00</td>\n",
       "      <td>-2.000000e+00</td>\n",
       "      <td>0.000000e+00</td>\n",
       "      <td>-6.000000e+00</td>\n",
       "      <td>1.240000e+02</td>\n",
       "      <td>0.000000e+00</td>\n",
       "      <td>0.000000e+00</td>\n",
       "      <td>0.000000e+00</td>\n",
       "      <td>0.000000e+00</td>\n",
       "      <td>0.000000e+00</td>\n",
       "      <td>1.200000e+01</td>\n",
       "    </tr>\n",
       "    <tr>\n",
       "      <th>75%</th>\n",
       "      <td>6.000000e+00</td>\n",
       "      <td>9.000000e+00</td>\n",
       "      <td>1.000000e+00</td>\n",
       "      <td>9.000000e+00</td>\n",
       "      <td>1.710000e+02</td>\n",
       "      <td>0.000000e+00</td>\n",
       "      <td>0.000000e+00</td>\n",
       "      <td>0.000000e+00</td>\n",
       "      <td>0.000000e+00</td>\n",
       "      <td>0.000000e+00</td>\n",
       "      <td>2.000000e+01</td>\n",
       "    </tr>\n",
       "    <tr>\n",
       "      <th>max</th>\n",
       "      <td>7.000000e+00</td>\n",
       "      <td>4.413000e+03</td>\n",
       "      <td>1.000000e+00</td>\n",
       "      <td>4.405000e+03</td>\n",
       "      <td>7.950000e+02</td>\n",
       "      <td>3.957000e+03</td>\n",
       "      <td>1.860000e+03</td>\n",
       "      <td>1.708000e+03</td>\n",
       "      <td>1.460000e+03</td>\n",
       "      <td>3.581000e+03</td>\n",
       "      <td>5.700000e+01</td>\n",
       "    </tr>\n",
       "  </tbody>\n",
       "</table>\n",
       "</div>"
      ],
      "text/plain": [
       "        Day_Of_Week     Dep_Delay  Dep_Delay_Tag     Arr_Delay  \\\n",
       "count  6.743404e+06  6.743404e+06   6.743404e+06  6.743404e+06   \n",
       "mean   3.982793e+00  1.220099e+01   3.790013e-01  6.627152e+00   \n",
       "std    2.001762e+00  5.507936e+01   4.851385e-01  5.707892e+01   \n",
       "min    1.000000e+00 -9.900000e+01   0.000000e+00 -1.190000e+02   \n",
       "25%    2.000000e+00 -5.000000e+00   0.000000e+00 -1.500000e+01   \n",
       "50%    4.000000e+00 -2.000000e+00   0.000000e+00 -6.000000e+00   \n",
       "75%    6.000000e+00  9.000000e+00   1.000000e+00  9.000000e+00   \n",
       "max    7.000000e+00  4.413000e+03   1.000000e+00  4.405000e+03   \n",
       "\n",
       "       Flight_Duration  Delay_Carrier  Delay_Weather     Delay_NAS  \\\n",
       "count     6.743404e+06   6.743404e+06   6.743404e+06  6.743404e+06   \n",
       "mean      1.402978e+02   5.169804e+00   7.428505e-01  2.566957e+00   \n",
       "std       7.287216e+01   3.645732e+01   1.435393e+01  1.500484e+01   \n",
       "min       0.000000e+00   0.000000e+00   0.000000e+00  0.000000e+00   \n",
       "25%       8.700000e+01   0.000000e+00   0.000000e+00  0.000000e+00   \n",
       "50%       1.240000e+02   0.000000e+00   0.000000e+00  0.000000e+00   \n",
       "75%       1.710000e+02   0.000000e+00   0.000000e+00  0.000000e+00   \n",
       "max       7.950000e+02   3.957000e+03   1.860000e+03  1.708000e+03   \n",
       "\n",
       "       Delay_Security  Delay_LastAircraft   Aicraft_age  \n",
       "count    6.743404e+06        6.743404e+06  6.743404e+06  \n",
       "mean     3.064876e-02        5.681108e+00  1.348063e+01  \n",
       "std      1.628923e+00        3.044647e+01  7.891495e+00  \n",
       "min      0.000000e+00        0.000000e+00  1.000000e+00  \n",
       "25%      0.000000e+00        0.000000e+00  7.000000e+00  \n",
       "50%      0.000000e+00        0.000000e+00  1.200000e+01  \n",
       "75%      0.000000e+00        0.000000e+00  2.000000e+01  \n",
       "max      1.460000e+03        3.581000e+03  5.700000e+01  "
      ]
     },
     "execution_count": 7,
     "metadata": {},
     "output_type": "execute_result"
    }
   ],
   "source": [
    "flight_df.describe()"
   ]
  },
  {
   "cell_type": "code",
   "execution_count": 8,
   "id": "58c2aa1c-feca-4b2a-accb-e7c9b4ed883e",
   "metadata": {},
   "outputs": [
    {
     "data": {
      "text/plain": [
       "FlightDate            0\n",
       "Day_Of_Week           0\n",
       "Airline               0\n",
       "Tail_Number           0\n",
       "Dep_Airport           0\n",
       "Dep_CityName          0\n",
       "DepTime_label         0\n",
       "Dep_Delay             0\n",
       "Dep_Delay_Tag         0\n",
       "Dep_Delay_Type        0\n",
       "Arr_Airport           0\n",
       "Arr_CityName          0\n",
       "Arr_Delay             0\n",
       "Arr_Delay_Type        0\n",
       "Flight_Duration       0\n",
       "Distance_type         0\n",
       "Delay_Carrier         0\n",
       "Delay_Weather         0\n",
       "Delay_NAS             0\n",
       "Delay_Security        0\n",
       "Delay_LastAircraft    0\n",
       "Manufacturer          0\n",
       "Model                 0\n",
       "Aicraft_age           0\n",
       "dtype: int64"
      ]
     },
     "execution_count": 8,
     "metadata": {},
     "output_type": "execute_result"
    }
   ],
   "source": [
    "flight_df.isnull().sum()"
   ]
  },
  {
   "cell_type": "markdown",
   "id": "05782e33-b26e-41d3-b424-645a7f912069",
   "metadata": {},
   "source": [
    "#### Use data from Los Angeles International Airport (LAX) for this project"
   ]
  },
  {
   "cell_type": "code",
   "execution_count": 9,
   "id": "dac13a82-986b-4dcf-84d6-ad4fff2364eb",
   "metadata": {},
   "outputs": [
    {
     "data": {
      "text/plain": [
       "(192260, 24)"
      ]
     },
     "execution_count": 9,
     "metadata": {},
     "output_type": "execute_result"
    }
   ],
   "source": [
    "lax_df = flight_df[flight_df['Dep_Airport'] == 'LAX']\n",
    "lax_df.shape"
   ]
  },
  {
   "cell_type": "code",
   "execution_count": 10,
   "id": "47b938af-ab34-49e1-8b1e-97dbf719b034",
   "metadata": {},
   "outputs": [
    {
     "name": "stdout",
     "output_type": "stream",
     "text": [
      "         flightdate  day_of_week                 airline tail_number  \\\n",
      "16668    2023-01-01            7  American Airlines Inc.      N101NN   \n",
      "16669    2023-01-02            1  American Airlines Inc.      N116AN   \n",
      "16670    2023-01-03            2  American Airlines Inc.      N107NN   \n",
      "16671    2023-01-04            3  American Airlines Inc.      N102NN   \n",
      "16672    2023-01-05            4  American Airlines Inc.      N110AN   \n",
      "...             ...          ...                     ...         ...   \n",
      "6743153  2023-12-31            7         JetBlue Airways      N794JB   \n",
      "6743262  2023-12-31            7         JetBlue Airways      N991JT   \n",
      "6743292  2023-12-31            7         JetBlue Airways      N961JT   \n",
      "6743316  2023-12-31            7         JetBlue Airways      N979JT   \n",
      "6743329  2023-12-31            7         JetBlue Airways      N988JT   \n",
      "\n",
      "        dep_airport     dep_cityname deptime_label  dep_delay  dep_delay_tag  \\\n",
      "16668           LAX  Los Angeles, CA       Morning         -2              0   \n",
      "16669           LAX  Los Angeles, CA       Morning         -6              0   \n",
      "16670           LAX  Los Angeles, CA       Morning         -2              0   \n",
      "16671           LAX  Los Angeles, CA       Morning         -3              0   \n",
      "16672           LAX  Los Angeles, CA       Morning         -3              0   \n",
      "...             ...              ...           ...        ...            ...   \n",
      "6743153         LAX  Los Angeles, CA       Evening        -13              0   \n",
      "6743262         LAX  Los Angeles, CA     Afternoon        -12              0   \n",
      "6743292         LAX  Los Angeles, CA       Morning         -7              0   \n",
      "6743316         LAX  Los Angeles, CA     Afternoon        -14              0   \n",
      "6743329         LAX  Los Angeles, CA       Morning         13              1   \n",
      "\n",
      "        dep_delay_type  ... flight_duration        distance_type  \\\n",
      "16668        Low <5min  ...             280  Medium Haul <3000Mi   \n",
      "16669        Low <5min  ...             309  Medium Haul <3000Mi   \n",
      "16670        Low <5min  ...             309  Medium Haul <3000Mi   \n",
      "16671        Low <5min  ...             330  Medium Haul <3000Mi   \n",
      "16672        Low <5min  ...             336  Medium Haul <3000Mi   \n",
      "...                ...  ...             ...                  ...   \n",
      "6743153      Low <5min  ...              84   Short Haul >1500Mi   \n",
      "6743262      Low <5min  ...             341  Medium Haul <3000Mi   \n",
      "6743292      Low <5min  ...             322  Medium Haul <3000Mi   \n",
      "6743316      Low <5min  ...             288  Medium Haul <3000Mi   \n",
      "6743329      Low <5min  ...             304  Medium Haul <3000Mi   \n",
      "\n",
      "         delay_carrier delay_weather  delay_nas delay_security  \\\n",
      "16668                0             0          0              0   \n",
      "16669                0             0          0              0   \n",
      "16670                0             0          0              0   \n",
      "16671                0             0          0              0   \n",
      "16672                0             0          0              0   \n",
      "...                ...           ...        ...            ...   \n",
      "6743153              0             0          0              0   \n",
      "6743262              0             0          0              0   \n",
      "6743292              0             0          0              0   \n",
      "6743316              0             0          0              0   \n",
      "6743329              0             0          0              0   \n",
      "\n",
      "         delay_lastaircraft  manufacturer  model  aicraft_age  \n",
      "16668                     0        AIRBUS   A321           11  \n",
      "16669                     0        AIRBUS   A321           10  \n",
      "16670                     0        AIRBUS   A321           10  \n",
      "16671                     0        AIRBUS   A321           11  \n",
      "16672                     0        AIRBUS   A321           10  \n",
      "...                     ...           ...    ...          ...  \n",
      "6743153                   0        AIRBUS   A320           13  \n",
      "6743262                   0        AIRBUS   A321            7  \n",
      "6743292                   0        AIRBUS   A321            8  \n",
      "6743316                   0        AIRBUS   A321            7  \n",
      "6743329                   0        AIRBUS   A321            7  \n",
      "\n",
      "[192260 rows x 24 columns]\n"
     ]
    }
   ],
   "source": [
    "lax_df.columns = lax_df.columns.str.lower()\n",
    "print(lax_df)"
   ]
  },
  {
   "cell_type": "markdown",
   "id": "4f829bf3-566e-4e94-9dc9-eacc2a2289a5",
   "metadata": {},
   "source": [
    "### Weather By Airport Dataset"
   ]
  },
  {
   "cell_type": "code",
   "execution_count": 11,
   "id": "f58ea517-2d15-4eee-9527-ab59f84e196c",
   "metadata": {},
   "outputs": [],
   "source": [
    "weather_df = pd.read_csv('2023-us-flights-delay/weather_meteo_by_airport.csv')"
   ]
  },
  {
   "cell_type": "code",
   "execution_count": 12,
   "id": "740dc956-c6ea-454b-8ea9-1f88359edf0f",
   "metadata": {},
   "outputs": [
    {
     "data": {
      "text/plain": [
       "(132860, 10)"
      ]
     },
     "execution_count": 12,
     "metadata": {},
     "output_type": "execute_result"
    }
   ],
   "source": [
    "weather_df.shape"
   ]
  },
  {
   "cell_type": "code",
   "execution_count": 13,
   "id": "b3b6b152-a0be-46d3-83e2-c934eade7dac",
   "metadata": {},
   "outputs": [
    {
     "data": {
      "text/plain": [
       "time           object\n",
       "tavg          float64\n",
       "tmin          float64\n",
       "tmax          float64\n",
       "prcp          float64\n",
       "snow          float64\n",
       "wdir          float64\n",
       "wspd          float64\n",
       "pres          float64\n",
       "airport_id     object\n",
       "dtype: object"
      ]
     },
     "execution_count": 13,
     "metadata": {},
     "output_type": "execute_result"
    }
   ],
   "source": [
    "weather_df.dtypes"
   ]
  },
  {
   "cell_type": "code",
   "execution_count": 14,
   "id": "8594d245-1078-473c-8d80-79168d7d1e4a",
   "metadata": {},
   "outputs": [
    {
     "data": {
      "text/html": [
       "<div>\n",
       "<style scoped>\n",
       "    .dataframe tbody tr th:only-of-type {\n",
       "        vertical-align: middle;\n",
       "    }\n",
       "\n",
       "    .dataframe tbody tr th {\n",
       "        vertical-align: top;\n",
       "    }\n",
       "\n",
       "    .dataframe thead th {\n",
       "        text-align: right;\n",
       "    }\n",
       "</style>\n",
       "<table border=\"1\" class=\"dataframe\">\n",
       "  <thead>\n",
       "    <tr style=\"text-align: right;\">\n",
       "      <th></th>\n",
       "      <th>time</th>\n",
       "      <th>tavg</th>\n",
       "      <th>tmin</th>\n",
       "      <th>tmax</th>\n",
       "      <th>prcp</th>\n",
       "      <th>snow</th>\n",
       "      <th>wdir</th>\n",
       "      <th>wspd</th>\n",
       "      <th>pres</th>\n",
       "      <th>airport_id</th>\n",
       "    </tr>\n",
       "  </thead>\n",
       "  <tbody>\n",
       "    <tr>\n",
       "      <th>0</th>\n",
       "      <td>2023-01-01</td>\n",
       "      <td>8.1</td>\n",
       "      <td>2.2</td>\n",
       "      <td>11.7</td>\n",
       "      <td>0.0</td>\n",
       "      <td>0.0</td>\n",
       "      <td>278.0</td>\n",
       "      <td>9.7</td>\n",
       "      <td>1013.8</td>\n",
       "      <td>ABE</td>\n",
       "    </tr>\n",
       "    <tr>\n",
       "      <th>1</th>\n",
       "      <td>2023-01-02</td>\n",
       "      <td>5.4</td>\n",
       "      <td>0.0</td>\n",
       "      <td>11.7</td>\n",
       "      <td>0.0</td>\n",
       "      <td>0.0</td>\n",
       "      <td>353.0</td>\n",
       "      <td>3.6</td>\n",
       "      <td>1019.6</td>\n",
       "      <td>ABE</td>\n",
       "    </tr>\n",
       "    <tr>\n",
       "      <th>2</th>\n",
       "      <td>2023-01-03</td>\n",
       "      <td>8.4</td>\n",
       "      <td>7.2</td>\n",
       "      <td>9.4</td>\n",
       "      <td>15.2</td>\n",
       "      <td>0.0</td>\n",
       "      <td>50.0</td>\n",
       "      <td>5.0</td>\n",
       "      <td>1013.9</td>\n",
       "      <td>ABE</td>\n",
       "    </tr>\n",
       "    <tr>\n",
       "      <th>3</th>\n",
       "      <td>2023-01-04</td>\n",
       "      <td>11.1</td>\n",
       "      <td>6.7</td>\n",
       "      <td>17.2</td>\n",
       "      <td>0.0</td>\n",
       "      <td>0.0</td>\n",
       "      <td>302.0</td>\n",
       "      <td>4.7</td>\n",
       "      <td>1009.8</td>\n",
       "      <td>ABE</td>\n",
       "    </tr>\n",
       "    <tr>\n",
       "      <th>4</th>\n",
       "      <td>2023-01-05</td>\n",
       "      <td>12.7</td>\n",
       "      <td>6.7</td>\n",
       "      <td>14.4</td>\n",
       "      <td>7.9</td>\n",
       "      <td>0.0</td>\n",
       "      <td>292.0</td>\n",
       "      <td>7.2</td>\n",
       "      <td>1013.0</td>\n",
       "      <td>ABE</td>\n",
       "    </tr>\n",
       "  </tbody>\n",
       "</table>\n",
       "</div>"
      ],
      "text/plain": [
       "         time  tavg  tmin  tmax  prcp  snow   wdir  wspd    pres airport_id\n",
       "0  2023-01-01   8.1   2.2  11.7   0.0   0.0  278.0   9.7  1013.8        ABE\n",
       "1  2023-01-02   5.4   0.0  11.7   0.0   0.0  353.0   3.6  1019.6        ABE\n",
       "2  2023-01-03   8.4   7.2   9.4  15.2   0.0   50.0   5.0  1013.9        ABE\n",
       "3  2023-01-04  11.1   6.7  17.2   0.0   0.0  302.0   4.7  1009.8        ABE\n",
       "4  2023-01-05  12.7   6.7  14.4   7.9   0.0  292.0   7.2  1013.0        ABE"
      ]
     },
     "execution_count": 14,
     "metadata": {},
     "output_type": "execute_result"
    }
   ],
   "source": [
    "weather_df.head(5)"
   ]
  },
  {
   "cell_type": "code",
   "execution_count": 15,
   "id": "fed4c69d-267e-4e1c-83ae-16736e9c4174",
   "metadata": {},
   "outputs": [
    {
     "data": {
      "text/html": [
       "<div>\n",
       "<style scoped>\n",
       "    .dataframe tbody tr th:only-of-type {\n",
       "        vertical-align: middle;\n",
       "    }\n",
       "\n",
       "    .dataframe tbody tr th {\n",
       "        vertical-align: top;\n",
       "    }\n",
       "\n",
       "    .dataframe thead th {\n",
       "        text-align: right;\n",
       "    }\n",
       "</style>\n",
       "<table border=\"1\" class=\"dataframe\">\n",
       "  <thead>\n",
       "    <tr style=\"text-align: right;\">\n",
       "      <th></th>\n",
       "      <th>tavg</th>\n",
       "      <th>tmin</th>\n",
       "      <th>tmax</th>\n",
       "      <th>prcp</th>\n",
       "      <th>snow</th>\n",
       "      <th>wdir</th>\n",
       "      <th>wspd</th>\n",
       "      <th>pres</th>\n",
       "    </tr>\n",
       "  </thead>\n",
       "  <tbody>\n",
       "    <tr>\n",
       "      <th>count</th>\n",
       "      <td>132860.000000</td>\n",
       "      <td>132860.000000</td>\n",
       "      <td>132860.000000</td>\n",
       "      <td>132860.000000</td>\n",
       "      <td>132860.000000</td>\n",
       "      <td>132860.000000</td>\n",
       "      <td>132860.000000</td>\n",
       "      <td>132860.000000</td>\n",
       "    </tr>\n",
       "    <tr>\n",
       "      <th>mean</th>\n",
       "      <td>14.042641</td>\n",
       "      <td>8.699833</td>\n",
       "      <td>19.617149</td>\n",
       "      <td>2.520604</td>\n",
       "      <td>6.810131</td>\n",
       "      <td>188.686042</td>\n",
       "      <td>12.424556</td>\n",
       "      <td>1015.650368</td>\n",
       "    </tr>\n",
       "    <tr>\n",
       "      <th>std</th>\n",
       "      <td>10.672859</td>\n",
       "      <td>10.680441</td>\n",
       "      <td>11.392223</td>\n",
       "      <td>7.915755</td>\n",
       "      <td>50.935283</td>\n",
       "      <td>114.629099</td>\n",
       "      <td>6.211261</td>\n",
       "      <td>6.944599</td>\n",
       "    </tr>\n",
       "    <tr>\n",
       "      <th>min</th>\n",
       "      <td>-39.100000</td>\n",
       "      <td>-76.000000</td>\n",
       "      <td>-35.000000</td>\n",
       "      <td>0.000000</td>\n",
       "      <td>0.000000</td>\n",
       "      <td>0.000000</td>\n",
       "      <td>0.000000</td>\n",
       "      <td>964.300000</td>\n",
       "    </tr>\n",
       "    <tr>\n",
       "      <th>25%</th>\n",
       "      <td>6.300000</td>\n",
       "      <td>1.100000</td>\n",
       "      <td>11.700000</td>\n",
       "      <td>0.000000</td>\n",
       "      <td>0.000000</td>\n",
       "      <td>79.000000</td>\n",
       "      <td>7.900000</td>\n",
       "      <td>1011.600000</td>\n",
       "    </tr>\n",
       "    <tr>\n",
       "      <th>50%</th>\n",
       "      <td>15.400000</td>\n",
       "      <td>9.400000</td>\n",
       "      <td>21.200000</td>\n",
       "      <td>0.000000</td>\n",
       "      <td>0.000000</td>\n",
       "      <td>197.000000</td>\n",
       "      <td>11.300000</td>\n",
       "      <td>1015.400000</td>\n",
       "    </tr>\n",
       "    <tr>\n",
       "      <th>75%</th>\n",
       "      <td>22.500000</td>\n",
       "      <td>17.200000</td>\n",
       "      <td>28.900000</td>\n",
       "      <td>1.000000</td>\n",
       "      <td>0.000000</td>\n",
       "      <td>297.000000</td>\n",
       "      <td>15.700000</td>\n",
       "      <td>1019.700000</td>\n",
       "    </tr>\n",
       "    <tr>\n",
       "      <th>max</th>\n",
       "      <td>42.200000</td>\n",
       "      <td>37.200000</td>\n",
       "      <td>50.000000</td>\n",
       "      <td>571.500000</td>\n",
       "      <td>1780.000000</td>\n",
       "      <td>360.000000</td>\n",
       "      <td>78.300000</td>\n",
       "      <td>1051.000000</td>\n",
       "    </tr>\n",
       "  </tbody>\n",
       "</table>\n",
       "</div>"
      ],
      "text/plain": [
       "                tavg           tmin           tmax           prcp  \\\n",
       "count  132860.000000  132860.000000  132860.000000  132860.000000   \n",
       "mean       14.042641       8.699833      19.617149       2.520604   \n",
       "std        10.672859      10.680441      11.392223       7.915755   \n",
       "min       -39.100000     -76.000000     -35.000000       0.000000   \n",
       "25%         6.300000       1.100000      11.700000       0.000000   \n",
       "50%        15.400000       9.400000      21.200000       0.000000   \n",
       "75%        22.500000      17.200000      28.900000       1.000000   \n",
       "max        42.200000      37.200000      50.000000     571.500000   \n",
       "\n",
       "                snow           wdir           wspd           pres  \n",
       "count  132860.000000  132860.000000  132860.000000  132860.000000  \n",
       "mean        6.810131     188.686042      12.424556    1015.650368  \n",
       "std        50.935283     114.629099       6.211261       6.944599  \n",
       "min         0.000000       0.000000       0.000000     964.300000  \n",
       "25%         0.000000      79.000000       7.900000    1011.600000  \n",
       "50%         0.000000     197.000000      11.300000    1015.400000  \n",
       "75%         0.000000     297.000000      15.700000    1019.700000  \n",
       "max      1780.000000     360.000000      78.300000    1051.000000  "
      ]
     },
     "execution_count": 15,
     "metadata": {},
     "output_type": "execute_result"
    }
   ],
   "source": [
    "weather_df.describe()"
   ]
  },
  {
   "cell_type": "code",
   "execution_count": 16,
   "id": "0c4b6b6f-29e0-49fb-8bd0-2607972c2664",
   "metadata": {},
   "outputs": [
    {
     "data": {
      "text/plain": [
       "time          0\n",
       "tavg          0\n",
       "tmin          0\n",
       "tmax          0\n",
       "prcp          0\n",
       "snow          0\n",
       "wdir          0\n",
       "wspd          0\n",
       "pres          0\n",
       "airport_id    0\n",
       "dtype: int64"
      ]
     },
     "execution_count": 16,
     "metadata": {},
     "output_type": "execute_result"
    }
   ],
   "source": [
    "weather_df.isnull().sum()"
   ]
  },
  {
   "cell_type": "markdown",
   "id": "17013acb-af2d-4432-85a8-bac04f6db0cf",
   "metadata": {},
   "source": [
    "#### Use data from Los Angeles International Airport (LAX) for this project"
   ]
  },
  {
   "cell_type": "code",
   "execution_count": 17,
   "id": "b0a8b2ce-d276-497c-a931-d9dbaaf84c6f",
   "metadata": {},
   "outputs": [
    {
     "data": {
      "text/plain": [
       "(365, 10)"
      ]
     },
     "execution_count": 17,
     "metadata": {},
     "output_type": "execute_result"
    }
   ],
   "source": [
    "lax_weather = weather_df[weather_df['airport_id'] == 'LAX']\n",
    "lax_weather.shape"
   ]
  },
  {
   "cell_type": "markdown",
   "id": "05ab4254-63ba-41f7-8d4e-33c3c725cf59",
   "metadata": {},
   "source": [
    "### Merge two datasets"
   ]
  },
  {
   "cell_type": "code",
   "execution_count": 18,
   "id": "6528ae64-6a58-4374-9de3-9cd3c2fd3caa",
   "metadata": {},
   "outputs": [],
   "source": [
    "lax_weather = lax_weather.rename(columns={'airport_id': 'dep_airport'})"
   ]
  },
  {
   "cell_type": "code",
   "execution_count": 19,
   "id": "3cda7d0d-39c7-40f7-ac67-953c1d19021b",
   "metadata": {},
   "outputs": [],
   "source": [
    "lax_weather = lax_weather.rename(columns={'time': 'flightdate'})"
   ]
  },
  {
   "cell_type": "code",
   "execution_count": 20,
   "id": "ebb52faa-90d4-49f2-b859-bba489ad01f8",
   "metadata": {},
   "outputs": [
    {
     "name": "stdout",
     "output_type": "stream",
     "text": [
      "   flightdate  day_of_week                 airline tail_number dep_airport  \\\n",
      "0  2023-01-01            7  American Airlines Inc.      N101NN         LAX   \n",
      "1  2023-01-02            1  American Airlines Inc.      N116AN         LAX   \n",
      "2  2023-01-03            2  American Airlines Inc.      N107NN         LAX   \n",
      "3  2023-01-04            3  American Airlines Inc.      N102NN         LAX   \n",
      "4  2023-01-05            4  American Airlines Inc.      N110AN         LAX   \n",
      "\n",
      "      dep_cityname deptime_label  dep_delay  dep_delay_tag dep_delay_type  \\\n",
      "0  Los Angeles, CA       Morning         -2              0      Low <5min   \n",
      "1  Los Angeles, CA       Morning         -6              0      Low <5min   \n",
      "2  Los Angeles, CA       Morning         -2              0      Low <5min   \n",
      "3  Los Angeles, CA       Morning         -3              0      Low <5min   \n",
      "4  Los Angeles, CA       Morning         -3              0      Low <5min   \n",
      "\n",
      "   ... model aicraft_age  tavg  tmin  tmax  prcp  snow   wdir  wspd    pres  \n",
      "0  ...  A321          11  14.3  12.2  16.1   2.5   0.0  273.0  23.0  1007.9  \n",
      "1  ...  A321          10  12.3   7.8  14.4   0.8   0.0   31.0   9.0  1015.0  \n",
      "2  ...  A321          10  11.9  10.0  14.4   1.3   0.0   69.0  19.8  1017.1  \n",
      "3  ...  A321          11  14.4  13.9  16.1  13.7   0.0   99.0  16.9  1018.2  \n",
      "4  ...  A321          10  14.6  12.8  16.7  27.2   0.0  224.0  20.9  1018.4  \n",
      "\n",
      "[5 rows x 32 columns]\n"
     ]
    }
   ],
   "source": [
    "lax_merged = pd.merge(lax_df, lax_weather, on=['flightdate', 'dep_airport'], how='left')\n",
    "\n",
    "print(lax_merged.head())"
   ]
  },
  {
   "cell_type": "code",
   "execution_count": 21,
   "id": "4c9ad9eb-2fbe-4dde-b1dc-aefb4b4bbc66",
   "metadata": {},
   "outputs": [
    {
     "data": {
      "text/plain": [
       "(192260, 32)"
      ]
     },
     "execution_count": 21,
     "metadata": {},
     "output_type": "execute_result"
    }
   ],
   "source": [
    "lax_merged.shape"
   ]
  },
  {
   "cell_type": "code",
   "execution_count": null,
   "id": "794db64c-cd43-4251-abf0-901c2851802b",
   "metadata": {},
   "outputs": [],
   "source": []
  }
 ],
 "metadata": {
  "kernelspec": {
   "display_name": "Python 3 (ipykernel)",
   "language": "python",
   "name": "python3"
  },
  "language_info": {
   "codemirror_mode": {
    "name": "ipython",
    "version": 3
   },
   "file_extension": ".py",
   "mimetype": "text/x-python",
   "name": "python",
   "nbconvert_exporter": "python",
   "pygments_lexer": "ipython3",
   "version": "3.12.3"
  }
 },
 "nbformat": 4,
 "nbformat_minor": 5
}
